{
 "cells": [
  {
   "cell_type": "code",
   "execution_count": null,
   "id": "38228699",
   "metadata": {},
   "outputs": [],
   "source": [
    "#importing pandas, numpy and os\n",
    "import pandas as pd\n",
    "import numpy as np\n",
    "import os"
   ]
  },
  {
   "cell_type": "markdown",
   "id": "4676a892",
   "metadata": {},
   "source": [
    "Import the pickle file"
   ]
  },
  {
   "cell_type": "code",
   "execution_count": null,
   "id": "aac1c05f",
   "metadata": {},
   "outputs": [],
   "source": [
    "path = \"/Users/satoruteshima/Documents/CareerFoundry/Data Immersion 4/08-2023 Instacart Basket Analysis\""
   ]
  },
  {
   "cell_type": "code",
   "execution_count": null,
   "id": "1dab2eec",
   "metadata": {},
   "outputs": [],
   "source": [
    "ords_prods_merge = pd.read_pickle(os.path.join( path, '02 Data', '02 Prepared Data', 'orders_products_new_values_added.pkl'))"
   ]
  },
  {
   "cell_type": "code",
   "execution_count": null,
   "id": "14912d04",
   "metadata": {},
   "outputs": [],
   "source": [
    "#create a subset\n",
    "df = ords_prods_merge[:1000000]"
   ]
  },
  {
   "cell_type": "code",
   "execution_count": null,
   "id": "38e969bf",
   "metadata": {},
   "outputs": [],
   "source": [
    "#checking the data dimension\n",
    "df.shape"
   ]
  },
  {
   "cell_type": "markdown",
   "id": "e7189a92",
   "metadata": {},
   "source": [
    "# Grouping Data with pandas\n"
   ]
  },
  {
   "cell_type": "markdown",
   "id": "7ca81f42",
   "metadata": {},
   "source": [
    "## the groupby() function\n",
    "\n",
    "- the first step of the workflow. Just like it sounds, this function will group a given dataframe by a given column."
   ]
  },
  {
   "cell_type": "code",
   "execution_count": null,
   "id": "b52dc913",
   "metadata": {},
   "outputs": [],
   "source": [
    "df.groupby('product_name')"
   ]
  },
  {
   "cell_type": "markdown",
   "id": "98d7d914",
   "metadata": {},
   "source": [
    "You should always use the groupby() function as part of a series of steps, namely, the following:\n",
    "\n",
    "- Split the data into groups based on some criteria.\n",
    "- Apply a function to each group separately.\n",
    "- Combine the results into a dataframe or alternative data structure or create a new column in the current dataframe."
   ]
  },
  {
   "cell_type": "markdown",
   "id": "47cb394a",
   "metadata": {},
   "source": [
    "## Aggregating Data with agg()"
   ]
  },
  {
   "cell_type": "markdown",
   "id": "cb924d4e",
   "metadata": {},
   "source": [
    "Aggregating in Python is done by using the appropriately named agg() function."
   ]
  },
  {
   "cell_type": "markdown",
   "id": "b1dd22fa",
   "metadata": {},
   "source": [
    "- Split the data into groups based on “department_id.”\n",
    "- Apply the agg() function to each group to obtain the mean values for the “order_number” column.\n",
    "\n",
    "To do this, run the following code:\n",
    "\n",
    "df.groupby('department_id').agg({'order_number': ['mean']})"
   ]
  },
  {
   "cell_type": "code",
   "execution_count": null,
   "id": "370d6dbe",
   "metadata": {},
   "outputs": [],
   "source": [
    "df.groupby('department_id').agg({'order_number': ['mean']})"
   ]
  },
  {
   "cell_type": "markdown",
   "id": "37802779",
   "metadata": {},
   "source": [
    "There are some aggregations that can be conducted without use of the agg() function. For instance, the command above could be replaced with a command that uses the mean() function to achieve the same results:\n",
    "\n",
    "df.groupby('department_id')['order_number'].mean()"
   ]
  },
  {
   "cell_type": "code",
   "execution_count": null,
   "id": "29c4b49f",
   "metadata": {},
   "outputs": [],
   "source": [
    "df.groupby('department_id')['order_number'].mean()"
   ]
  },
  {
   "cell_type": "markdown",
   "id": "d6a7805e",
   "metadata": {},
   "source": [
    "## Performing Multiple Aggregations\n"
   ]
  },
  {
   "cell_type": "markdown",
   "id": "e5cd0687",
   "metadata": {},
   "source": [
    "This time together with min and max"
   ]
  },
  {
   "cell_type": "code",
   "execution_count": null,
   "id": "5e7c4397",
   "metadata": {},
   "outputs": [],
   "source": [
    "df.groupby('department_id').agg({'order_number': ['mean', 'min', 'max']})"
   ]
  },
  {
   "cell_type": "markdown",
   "id": "a422f956",
   "metadata": {},
   "source": [
    "## Aggregating Data with transform()\n"
   ]
  },
  {
   "cell_type": "markdown",
   "id": "a8871b44",
   "metadata": {},
   "source": [
    "- transform() function will create a new column containing the maximum frequency of the “order_number” column\n",
    "\n",
    "- And then using the loc() function, which will create a second column containing a flag designating whether a customer is “loyal” or not."
   ]
  },
  {
   "cell_type": "markdown",
   "id": "1ba111df",
   "metadata": {},
   "source": [
    "#### These criteria will be considered\n",
    "\n",
    "- If the maximum orders the user has made is over 40, then the customer will be labeled a “Loyal customer.”\n",
    "- If the maximum orders the user has made is over 10 but less than or equal to 40, then the customer will be labeled a “Regular customer.”\n",
    "- If the maximum orders the user has made is less than or equal to 10, then the customer will be labeled a “New customer.”"
   ]
  },
  {
   "cell_type": "markdown",
   "id": "581769c0",
   "metadata": {},
   "source": [
    "#### Now, let’s map this task onto the three-step process introduced earlier:\n",
    "\n",
    "- Split the data into groups based on the “user_id” column.\n",
    "- Apply the transform() function on the “order_number” column to generate the maximum orders for each user.\n",
    "- Create a new column, “max_order,” into which you’ll place the results of your aggregation."
   ]
  },
  {
   "cell_type": "code",
   "execution_count": null,
   "id": "1a4a50cf",
   "metadata": {},
   "outputs": [],
   "source": [
    "ords_prods_merge['max_order'] = ords_prods_merge.groupby(['user_id'])['order_number'].transform(np.max)"
   ]
  },
  {
   "cell_type": "code",
   "execution_count": null,
   "id": "6767f3ce",
   "metadata": {},
   "outputs": [],
   "source": [
    "ords_prods_merge.head(15)"
   ]
  },
  {
   "cell_type": "code",
   "execution_count": null,
   "id": "cb29b2c1",
   "metadata": {},
   "outputs": [],
   "source": [
    "#checking the first 100 columns\n",
    "ords_prods_merge.head(100)"
   ]
  },
  {
   "cell_type": "markdown",
   "id": "258f2354",
   "metadata": {},
   "source": [
    "This command tells pandas not to assign any options regarding the maximum number of rows to display.\n",
    "\n",
    "pd.options.display.max_rows = None"
   ]
  },
  {
   "cell_type": "code",
   "execution_count": null,
   "id": "054e04f7",
   "metadata": {},
   "outputs": [],
   "source": [
    "pd.options.display.max_rows = None"
   ]
  },
  {
   "cell_type": "code",
   "execution_count": null,
   "id": "8d40f245",
   "metadata": {},
   "outputs": [],
   "source": [
    "#checking the first 100 columns\n",
    "ords_prods_merge.head(100)"
   ]
  },
  {
   "cell_type": "markdown",
   "id": "27810d52",
   "metadata": {},
   "source": [
    "## Deriving Columns with loc()"
   ]
  },
  {
   "cell_type": "code",
   "execution_count": null,
   "id": "48bf71d7",
   "metadata": {},
   "outputs": [],
   "source": [
    "ords_prods_merge.loc[ords_prods_merge['max_order'] > 40, 'loyalty_flag'] = 'Loyal customer'"
   ]
  },
  {
   "cell_type": "code",
   "execution_count": null,
   "id": "31c80cb3",
   "metadata": {},
   "outputs": [],
   "source": [
    "\n",
    "ords_prods_merge.loc[(ords_prods_merge['max_order'] <= 40) & (ords_prods_merge['max_order'] > 10), 'loyalty_flag'] = 'Regular customer'"
   ]
  },
  {
   "cell_type": "code",
   "execution_count": null,
   "id": "cb8bd08a",
   "metadata": {},
   "outputs": [],
   "source": [
    "ords_prods_merge.loc[ords_prods_merge['max_order'] <= 10, 'loyalty_flag'] = 'New customer'"
   ]
  },
  {
   "cell_type": "code",
   "execution_count": null,
   "id": "f7062941",
   "metadata": {},
   "outputs": [],
   "source": [
    "ords_prods_merge['loyalty_flag'].value_counts(dropna = False)"
   ]
  },
  {
   "cell_type": "code",
   "execution_count": null,
   "id": "aa0a9aa9",
   "metadata": {},
   "outputs": [],
   "source": [
    "ords_prods_merge[['user_id', 'loyalty_flag', 'order_number']].head(60)"
   ]
  },
  {
   "cell_type": "code",
   "execution_count": null,
   "id": "cd618c2c",
   "metadata": {},
   "outputs": [],
   "source": []
  },
  {
   "cell_type": "code",
   "execution_count": null,
   "id": "c4b83f7f",
   "metadata": {},
   "outputs": [],
   "source": []
  },
  {
   "cell_type": "code",
   "execution_count": null,
   "id": "df57d630",
   "metadata": {},
   "outputs": [],
   "source": []
  },
  {
   "cell_type": "code",
   "execution_count": null,
   "id": "1b953021",
   "metadata": {},
   "outputs": [],
   "source": []
  },
  {
   "cell_type": "code",
   "execution_count": null,
   "id": "de0c0ef3",
   "metadata": {},
   "outputs": [],
   "source": []
  },
  {
   "cell_type": "code",
   "execution_count": null,
   "id": "6cf94138",
   "metadata": {},
   "outputs": [],
   "source": []
  },
  {
   "cell_type": "code",
   "execution_count": null,
   "id": "69b1a4ce",
   "metadata": {},
   "outputs": [],
   "source": []
  }
 ],
 "metadata": {
  "kernelspec": {
   "display_name": "Python 3 (ipykernel)",
   "language": "python",
   "name": "python3"
  },
  "language_info": {
   "codemirror_mode": {
    "name": "ipython",
    "version": 3
   },
   "file_extension": ".py",
   "mimetype": "text/x-python",
   "name": "python",
   "nbconvert_exporter": "python",
   "pygments_lexer": "ipython3",
   "version": "3.11.4"
  }
 },
 "nbformat": 4,
 "nbformat_minor": 5
}
