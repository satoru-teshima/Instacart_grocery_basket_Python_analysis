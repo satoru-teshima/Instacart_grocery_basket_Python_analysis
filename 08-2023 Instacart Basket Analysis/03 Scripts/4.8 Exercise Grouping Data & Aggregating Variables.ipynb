{
 "cells": [
  {
   "cell_type": "code",
   "execution_count": 63,
   "id": "db7938d2",
   "metadata": {},
   "outputs": [],
   "source": [
    "#importing pandas, numpy and os\n",
    "import pandas as pd\n",
    "import numpy as np\n",
    "import os"
   ]
  },
  {
   "cell_type": "code",
   "execution_count": null,
   "id": "983b478b",
   "metadata": {},
   "outputs": [],
   "source": [
    "#importing the latest ords_prods_merge pickle\n",
    "path = \"/Users/satoruteshima/Documents/CareerFoundry/Data Immersion 4/08-2023 Instacart Basket Analysis\""
   ]
  },
  {
   "cell_type": "code",
   "execution_count": null,
   "id": "21a3a560",
   "metadata": {},
   "outputs": [],
   "source": [
    "ords_prods_merge = pd.read_pickle(os.path.join( path, '02 Data', '02 Prepared Data', 'orders_products_new_values_added.pkl'))"
   ]
  },
  {
   "cell_type": "markdown",
   "id": "2b1c5824",
   "metadata": {},
   "source": [
    "# TASKS"
   ]
  },
  {
   "cell_type": "markdown",
   "id": "5ae2320c",
   "metadata": {},
   "source": [
    "#### In this Exercise, you learned how to find the aggregated mean of the “order_number” column grouped by “department_id” for a subset of your dataframe. Now, repeat this process for the entire dataframe."
   ]
  },
  {
   "cell_type": "code",
   "execution_count": null,
   "id": "f505fedf",
   "metadata": {},
   "outputs": [],
   "source": [
    "ords_prods_merge.groupby('department_id').agg({'order_number':['mean']})\n"
   ]
  },
  {
   "cell_type": "markdown",
   "id": "77055c83",
   "metadata": {},
   "source": [
    "#### Analyze the result. How do the results for the entire dataframe differ from those of the subset? Include your comments in a markdown cell below the executed code.\n",
    "\n",
    "- The values are slightly different because it is aggregating the larger amount of data. \n",
    "- The top performing and bottom performing (by average) were the same "
   ]
  },
  {
   "cell_type": "markdown",
   "id": "5f22b07d",
   "metadata": {},
   "source": [
    "#### Follow the instructions in the Exercise for creating a loyalty flag for existing customers using the transform() and loc() functions.\n"
   ]
  },
  {
   "cell_type": "code",
   "execution_count": null,
   "id": "ce81f2c4",
   "metadata": {},
   "outputs": [],
   "source": [
    "ords_prods_merge['max_order'] = ords_prods_merge.groupby(['user_id'])['order_number'].transform(np.max)"
   ]
  },
  {
   "cell_type": "code",
   "execution_count": null,
   "id": "60215b29",
   "metadata": {},
   "outputs": [],
   "source": [
    "ords_prods_merge.loc[ords_prods_merge['max_order'] > 40, 'loyalty_flag'] = 'Loyal customer'"
   ]
  },
  {
   "cell_type": "code",
   "execution_count": null,
   "id": "74777d0d",
   "metadata": {},
   "outputs": [],
   "source": [
    "ords_prods_merge.loc[(ords_prods_merge['max_order'] <= 40) & (ords_prods_merge['max_order'] > 10), 'loyalty_flag'] = 'Regular customer'"
   ]
  },
  {
   "cell_type": "code",
   "execution_count": null,
   "id": "52f85a4d",
   "metadata": {},
   "outputs": [],
   "source": [
    "ords_prods_merge.loc[ords_prods_merge['max_order'] <= 10, 'loyalty_flag'] = 'New customer'"
   ]
  },
  {
   "cell_type": "code",
   "execution_count": null,
   "id": "09c7eb48",
   "metadata": {},
   "outputs": [],
   "source": [
    "#count values\n",
    "ords_prods_merge['loyalty_flag'].value_counts(dropna = False)"
   ]
  },
  {
   "cell_type": "markdown",
   "id": "90bfed98",
   "metadata": {},
   "source": [
    "#### The marketing team at Instacart wants to know whether there’s a difference between the spending habits of the three types of customers you identified. Use the loyalty flag you created and check the basic statistics of the product prices for each loyalty category (Loyal Customer, Regular Customer, and New Customer). What you’re trying to determine is whether the prices of products purchased by loyal customers differ from those purchased by regular or new customers."
   ]
  },
  {
   "cell_type": "code",
   "execution_count": null,
   "id": "582cbecb",
   "metadata": {},
   "outputs": [],
   "source": [
    "#create a dataset only containing loyal customer \n",
    "loyal_customer = ords_prods_merge.loc[ords_prods_merge['loyalty_flag']== 'Loyal customer']"
   ]
  },
  {
   "cell_type": "code",
   "execution_count": null,
   "id": "aead368a",
   "metadata": {},
   "outputs": [],
   "source": [
    "#check shape to see if it matches with the value counts.\n",
    "loyal_customer.shape"
   ]
  },
  {
   "cell_type": "code",
   "execution_count": null,
   "id": "2f138c9b",
   "metadata": {},
   "outputs": [],
   "source": [
    "#check the statistical data of prices of products purchased by loyal_customer \n",
    "loyal_customer.groupby('department_id').agg({'prices': ['mean', 'min', 'max']})"
   ]
  },
  {
   "cell_type": "code",
   "execution_count": null,
   "id": "1ffd0000",
   "metadata": {},
   "outputs": [],
   "source": [
    "#create a dataset NOTcontaining loyal customer \n",
    "other_customer = ords_prods_merge.loc[ords_prods_merge['loyalty_flag'] != 'loyal customer']\n"
   ]
  },
  {
   "cell_type": "code",
   "execution_count": null,
   "id": "5a88c4e5",
   "metadata": {},
   "outputs": [],
   "source": [
    "#check the statistical data of prices of products purchased by loyal_customer \n",
    "other_customer.groupby('department_id').agg({'prices': ['mean', 'min', 'max']})"
   ]
  },
  {
   "cell_type": "markdown",
   "id": "1ea5c03a",
   "metadata": {},
   "source": [
    "## Insights\n",
    "\n",
    "- comparing the two datasets (loyal_customer and other_customer), we can see that there isn't a huge difference in the prices of products that they purchase. "
   ]
  },
  {
   "cell_type": "markdown",
   "id": "893fea06",
   "metadata": {},
   "source": [
    "#### The team now wants to target different types of spenders in their marketing campaigns. This can be achieved by looking at the prices of the items people are buying. Create a spending flag for each user based on the average price across all their orders using the following criteria:\n",
    "\n",
    "- If the mean of the prices of products purchased by a user is lower than 10, then flag them as a “Low spender.”\n",
    "- If the mean of the prices of products purchased by a user is higher than or equal to 10, then flag them as a “High spender.”"
   ]
  },
  {
   "cell_type": "code",
   "execution_count": null,
   "id": "7e60d8d4",
   "metadata": {},
   "outputs": [],
   "source": [
    "#create a new column max_price using transform function\n",
    "ords_prods_merge['avg_price'] = ords_prods_merge.groupby(['user_id'])['prices'].transform(np.mean)"
   ]
  },
  {
   "cell_type": "markdown",
   "id": "47df5468",
   "metadata": {},
   "source": [
    "create a new column 'spending_flag' using loc function"
   ]
  },
  {
   "cell_type": "code",
   "execution_count": null,
   "id": "7b7d077b",
   "metadata": {},
   "outputs": [],
   "source": [
    "ords_prods_merge.loc[ords_prods_merge['avg_price'] < 10, 'spending_flag'] = 'Low spender'"
   ]
  },
  {
   "cell_type": "code",
   "execution_count": null,
   "id": "f2d90a57",
   "metadata": {},
   "outputs": [],
   "source": [
    "ords_prods_merge.loc[ords_prods_merge['avg_price'] >= 10, 'spending_flag'] = 'High spender'"
   ]
  },
  {
   "cell_type": "code",
   "execution_count": 60,
   "id": "f9ad5916",
   "metadata": {},
   "outputs": [
    {
     "data": {
      "text/plain": [
       "Low spender     31770614\n",
       "High spender      634245\n",
       "Name: spending_flag, dtype: int64"
      ]
     },
     "execution_count": 60,
     "metadata": {},
     "output_type": "execute_result"
    }
   ],
   "source": [
    "#check value counts\n",
    "ords_prods_merge['spending_flag'].value_counts(dropna = False)"
   ]
  },
  {
   "cell_type": "markdown",
   "id": "4df37864",
   "metadata": {},
   "source": [
    "#### In order to send relevant notifications to users within the app (for instance, asking users if they want to buy the same item again), the Instacart team wants you to determine frequent versus non-frequent customers. Create an order frequency flag that marks the regularity of a user’s ordering behavior according to the median in the “days_since_prior_order” column. The criteria for the flag should be as follows:\n",
    "\n",
    "- If the median of “days_since_prior_order” is higher than 20, then the customer should be labeled a “Non-frequent customer.”\n",
    "- If the median is higher than 10 and lower than or equal to 20, then the customer should be labeled a “Regular customer.”\n",
    "- If the median is lower than or equal to 10, then the customer should be labeled a “Frequent customer.”\n"
   ]
  },
  {
   "cell_type": "code",
   "execution_count": 67,
   "id": "4efdd097",
   "metadata": {},
   "outputs": [],
   "source": [
    "ords_prods_merge['purchase_frequency'] = ords_prods_merge.groupby (['user_id'])['days_since_last_order'].transform(np.median)"
   ]
  },
  {
   "cell_type": "code",
   "execution_count": 89,
   "id": "008c0529",
   "metadata": {},
   "outputs": [],
   "source": [
    "ords_prods_merge.loc[ords_prods_merge['purchase_frequency']> 20, 'order_frequency_flag'] = 'Non-frequent customer'\n"
   ]
  },
  {
   "cell_type": "code",
   "execution_count": 81,
   "id": "cc8b746d",
   "metadata": {},
   "outputs": [],
   "source": [
    "ords_prods_merge.loc[(ords_prods_merge['purchase_frequency']> 10) & (ords_prods_merge['purchase_frequency'] <= 20), 'order_frequency_flag'] = 'Regular customer'"
   ]
  },
  {
   "cell_type": "code",
   "execution_count": 73,
   "id": "e8debbd3",
   "metadata": {},
   "outputs": [],
   "source": [
    "ords_prods_merge.loc[ords_prods_merge['purchase_frequency']<= 10, 'order_frequency_flag'] = 'Frequent customer'"
   ]
  },
  {
   "cell_type": "code",
   "execution_count": 90,
   "id": "933ed60a",
   "metadata": {},
   "outputs": [
    {
     "data": {
      "text/plain": [
       "Frequent customer        21559853\n",
       "Regular customer          7208564\n",
       "Non-frequent customer     3636437\n",
       "Not enough data                 5\n",
       "Name: order_frequency_flag, dtype: int64"
      ]
     },
     "execution_count": 90,
     "metadata": {},
     "output_type": "execute_result"
    }
   ],
   "source": [
    "ords_prods_merge['order_frequency_flag'].value_counts(dropna = False)"
   ]
  },
  {
   "cell_type": "code",
   "execution_count": 91,
   "id": "ba21d185",
   "metadata": {},
   "outputs": [
    {
     "data": {
      "text/plain": [
       "order_frequency_flag\n",
       "Frequent customer        86596\n",
       "Non-frequent customer    59619\n",
       "Not enough data              1\n",
       "Regular customer         59993\n",
       "Name: user_id, dtype: int64"
      ]
     },
     "execution_count": 91,
     "metadata": {},
     "output_type": "execute_result"
    }
   ],
   "source": [
    "ords_prods_merge.groupby(['order_frequency_flag']).user_id.nunique()"
   ]
  },
  {
   "cell_type": "code",
   "execution_count": 92,
   "id": "a82c3314",
   "metadata": {},
   "outputs": [
    {
     "name": "stdout",
     "output_type": "stream",
     "text": [
      "   user_id  days_since_last_order order_frequency_flag\n",
      "0      138                    3.0    Frequent customer\n",
      "1      138                   20.0    Frequent customer\n",
      "2      709                    6.0    Frequent customer\n",
      "3      764                    NaN    Frequent customer\n",
      "4      764                    9.0    Frequent customer\n",
      "5      777                   26.0     Regular customer\n",
      "6      825                   30.0     Regular customer\n",
      "7      910                   30.0    Frequent customer\n",
      "8     1052                   19.0    Frequent customer\n",
      "9     1052                   15.0    Frequent customer\n"
     ]
    }
   ],
   "source": [
    "subset = ords_prods_merge[['user_id','days_since_last_order', 'order_frequency_flag']].head(10)\n",
    "print(subset)"
   ]
  },
  {
   "cell_type": "code",
   "execution_count": 95,
   "id": "3a196283",
   "metadata": {},
   "outputs": [],
   "source": [
    "#export\n",
    "ords_prods_merge.to_pickle(os.path.join(path, '02 Data','02 Prepared Data', 'orders_products_more_flags_added.pkl'))"
   ]
  },
  {
   "cell_type": "code",
   "execution_count": null,
   "id": "2b3973f8",
   "metadata": {},
   "outputs": [],
   "source": []
  },
  {
   "cell_type": "code",
   "execution_count": null,
   "id": "0d624f3a",
   "metadata": {},
   "outputs": [],
   "source": []
  },
  {
   "cell_type": "code",
   "execution_count": null,
   "id": "395204f2",
   "metadata": {},
   "outputs": [],
   "source": []
  },
  {
   "cell_type": "code",
   "execution_count": null,
   "id": "256292d5",
   "metadata": {},
   "outputs": [],
   "source": []
  },
  {
   "cell_type": "code",
   "execution_count": null,
   "id": "e55c84cc",
   "metadata": {},
   "outputs": [],
   "source": []
  },
  {
   "cell_type": "code",
   "execution_count": null,
   "id": "eb9a9c48",
   "metadata": {},
   "outputs": [],
   "source": []
  },
  {
   "cell_type": "code",
   "execution_count": null,
   "id": "79f87b85",
   "metadata": {},
   "outputs": [],
   "source": []
  },
  {
   "cell_type": "code",
   "execution_count": null,
   "id": "636d4bb4",
   "metadata": {},
   "outputs": [],
   "source": []
  },
  {
   "cell_type": "code",
   "execution_count": null,
   "id": "7e84118c",
   "metadata": {},
   "outputs": [],
   "source": []
  },
  {
   "cell_type": "code",
   "execution_count": null,
   "id": "b61c4b9f",
   "metadata": {},
   "outputs": [],
   "source": []
  }
 ],
 "metadata": {
  "kernelspec": {
   "display_name": "Python 3 (ipykernel)",
   "language": "python",
   "name": "python3"
  },
  "language_info": {
   "codemirror_mode": {
    "name": "ipython",
    "version": 3
   },
   "file_extension": ".py",
   "mimetype": "text/x-python",
   "name": "python",
   "nbconvert_exporter": "python",
   "pygments_lexer": "ipython3",
   "version": "3.11.4"
  }
 },
 "nbformat": 4,
 "nbformat_minor": 5
}
