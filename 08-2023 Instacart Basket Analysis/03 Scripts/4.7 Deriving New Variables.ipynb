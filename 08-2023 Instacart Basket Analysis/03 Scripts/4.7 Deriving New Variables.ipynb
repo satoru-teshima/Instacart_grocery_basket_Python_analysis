{
 "cells": [
  {
   "cell_type": "code",
   "execution_count": 1,
   "id": "ecda516d",
   "metadata": {},
   "outputs": [],
   "source": [
    "#import pandas, numpy and os\n",
    "import pandas as pd\n",
    "import numpy as np\n",
    "import os\n"
   ]
  },
  {
   "cell_type": "code",
   "execution_count": 2,
   "id": "a4dd14ff",
   "metadata": {},
   "outputs": [],
   "source": [
    "#define path\n",
    "\n",
    "path = r'/Users/satoruteshima/Documents/CareerFoundry/Data Immersion 4/08-2023 Instacart Basket Analysis'"
   ]
  },
  {
   "cell_type": "markdown",
   "id": "4881acf4",
   "metadata": {},
   "source": [
    "# IF STATEMENT"
   ]
  },
  {
   "cell_type": "code",
   "execution_count": 2,
   "id": "a73f290d",
   "metadata": {},
   "outputs": [],
   "source": [
    "#add_sum function\n",
    "\n",
    "def add_sum (x,y):\n",
    "    sum = x+y\n",
    "    return sum"
   ]
  },
  {
   "cell_type": "code",
   "execution_count": 3,
   "id": "8dcdf9bc",
   "metadata": {},
   "outputs": [
    {
     "data": {
      "text/plain": [
       "9"
      ]
     },
     "execution_count": 3,
     "metadata": {},
     "output_type": "execute_result"
    }
   ],
   "source": [
    "#use add_sum function\n",
    "\n",
    "add_sum(4,5)"
   ]
  },
  {
   "cell_type": "markdown",
   "id": "af5ddb6e",
   "metadata": {},
   "source": [
    "# Sort Products Into Price Ranges"
   ]
  },
  {
   "cell_type": "markdown",
   "id": "59525077",
   "metadata": {},
   "source": [
    "- If the item’s price is lower than or equal to 5 dollars, it will be labeled a _“low-range product.”_\n",
    "\n",
    "- If the item’s price is above 5 dollars but lower than or equal to 15 dollars, it will be labeled a _“mid-range product.”_\n",
    "- If the item’s price is above 15 dollars , it will be labeled a _“high-range product.”_"
   ]
  },
  {
   "cell_type": "code",
   "execution_count": 3,
   "id": "ebc91b4a",
   "metadata": {},
   "outputs": [],
   "source": [
    "#import ords_prods_merged\n",
    "ords_prods_merge = pd.read_pickle(os.path.join(path, '02 Data', '02 Prepared Data', 'orders_products_combined_final.pkl'))"
   ]
  },
  {
   "cell_type": "code",
   "execution_count": 4,
   "id": "7d4cb470",
   "metadata": {},
   "outputs": [],
   "source": [
    "#work with a subset that contains less data\n",
    "df = ords_prods_merge[:1000000]"
   ]
  },
  {
   "cell_type": "code",
   "execution_count": 5,
   "id": "dcb3790f",
   "metadata": {},
   "outputs": [
    {
     "data": {
      "text/plain": [
       "(1000000, 18)"
      ]
     },
     "execution_count": 5,
     "metadata": {},
     "output_type": "execute_result"
    }
   ],
   "source": [
    "df.shape"
   ]
  },
  {
   "cell_type": "code",
   "execution_count": 6,
   "id": "766901ff",
   "metadata": {},
   "outputs": [],
   "source": [
    "def price_label(row):\n",
    "\n",
    "  if row['prices'] <= 5:\n",
    "    return 'Low-range product'\n",
    "  elif (row['prices'] > 5) and (row['prices'] <= 15):\n",
    "    return 'Mid-range product'\n",
    "  elif row['prices'] > 15:\n",
    "    return 'High range'\n",
    "  else: return 'Not enough data'"
   ]
  },
  {
   "cell_type": "code",
   "execution_count": 7,
   "id": "6c0d914f",
   "metadata": {},
   "outputs": [
    {
     "name": "stderr",
     "output_type": "stream",
     "text": [
      "/var/folders/y7/609s2c2s66d153pxhbp7hmhh0000gn/T/ipykernel_35271/119932705.py:2: SettingWithCopyWarning: \n",
      "A value is trying to be set on a copy of a slice from a DataFrame.\n",
      "Try using .loc[row_indexer,col_indexer] = value instead\n",
      "\n",
      "See the caveats in the documentation: https://pandas.pydata.org/pandas-docs/stable/user_guide/indexing.html#returning-a-view-versus-a-copy\n",
      "  df['price_range'] = df.apply(price_label, axis=1)\n"
     ]
    }
   ],
   "source": [
    "#add price_range value row\n",
    "df['price_range'] = df.apply(price_label, axis=1)\n"
   ]
  },
  {
   "cell_type": "code",
   "execution_count": 8,
   "id": "de828970",
   "metadata": {},
   "outputs": [
    {
     "data": {
      "text/plain": [
       "Mid-range product    652638\n",
       "Low-range product    338018\n",
       "High range             9344\n",
       "Name: price_range, dtype: int64"
      ]
     },
     "execution_count": 8,
     "metadata": {},
     "output_type": "execute_result"
    }
   ],
   "source": [
    "df['price_range'].value_counts(dropna =False)"
   ]
  },
  {
   "cell_type": "code",
   "execution_count": 9,
   "id": "3f993f5a",
   "metadata": {},
   "outputs": [
    {
     "data": {
      "text/plain": [
       "24.5"
      ]
     },
     "execution_count": 9,
     "metadata": {},
     "output_type": "execute_result"
    }
   ],
   "source": [
    "#what's the maximum price? \n",
    "df['prices'].max()"
   ]
  },
  {
   "cell_type": "markdown",
   "id": "93c1dcad",
   "metadata": {},
   "source": [
    "# If-Statements with the loc() Function\n"
   ]
  },
  {
   "cell_type": "markdown",
   "id": "10016d39",
   "metadata": {},
   "source": [
    "Using loc(), you can apply the conditional logic of an if-statement to a function without explicitly creating an if-else construct."
   ]
  },
  {
   "cell_type": "code",
   "execution_count": 10,
   "id": "7c92cf52",
   "metadata": {},
   "outputs": [
    {
     "name": "stderr",
     "output_type": "stream",
     "text": [
      "/var/folders/y7/609s2c2s66d153pxhbp7hmhh0000gn/T/ipykernel_35271/1169838859.py:1: SettingWithCopyWarning: \n",
      "A value is trying to be set on a copy of a slice from a DataFrame.\n",
      "Try using .loc[row_indexer,col_indexer] = value instead\n",
      "\n",
      "See the caveats in the documentation: https://pandas.pydata.org/pandas-docs/stable/user_guide/indexing.html#returning-a-view-versus-a-copy\n",
      "  df.loc[df['prices'] > 15, 'price_range_loc'] = 'High-range product'\n"
     ]
    }
   ],
   "source": [
    "df.loc[df['prices'] > 15, 'price_range_loc'] = 'High-range product'"
   ]
  },
  {
   "cell_type": "code",
   "execution_count": 11,
   "id": "a221bde9",
   "metadata": {},
   "outputs": [],
   "source": [
    "df.loc[(df['prices'] <= 15) & (df['prices'] > 5), 'price_range_loc'] = 'Mid-range product' "
   ]
  },
  {
   "cell_type": "code",
   "execution_count": 12,
   "id": "62141762",
   "metadata": {},
   "outputs": [],
   "source": [
    "df.loc[df['prices'] <= 5, 'price_range_loc'] = 'Low-range product'"
   ]
  },
  {
   "cell_type": "markdown",
   "id": "77f10a73",
   "metadata": {},
   "source": [
    "- if = df.loc[df['prices'] > 15,\n",
    "- then = 'price_range_loc'] = 'High-range product'"
   ]
  },
  {
   "cell_type": "code",
   "execution_count": 13,
   "id": "b3046cb0",
   "metadata": {},
   "outputs": [
    {
     "data": {
      "text/plain": [
       "Mid-range product     652638\n",
       "Low-range product     338018\n",
       "High-range product      9344\n",
       "Name: price_range_loc, dtype: int64"
      ]
     },
     "execution_count": 13,
     "metadata": {},
     "output_type": "execute_result"
    }
   ],
   "source": [
    "#count num of values\n",
    "df['price_range_loc'].value_counts(dropna = False)"
   ]
  },
  {
   "cell_type": "markdown",
   "id": "976f6002",
   "metadata": {},
   "source": [
    "# If-Statements with For-Loops\n"
   ]
  },
  {
   "cell_type": "code",
   "execution_count": 4,
   "id": "947ee662",
   "metadata": {},
   "outputs": [
    {
     "name": "stdout",
     "output_type": "stream",
     "text": [
      "Lukas age is 1\n",
      "Lukas age is 2\n",
      "Lukas age is 3\n",
      "Lukas age is 4\n",
      "Lukas age is 5\n",
      "Lukas age is 6\n",
      "Lukas age is 7\n",
      "Lukas age is 8\n",
      "Lukas age is 9\n",
      "Lukas age is 10\n",
      "Lukas age is 11\n",
      "Lukas age is 12\n",
      "Lukas age is 13\n",
      "Lukas age is 14\n",
      "Lukas age is 15\n",
      "Lukas age is 16\n",
      "Lukas age is 17\n",
      "Lukas age is 18\n",
      "Lukas age is 19\n",
      "Lukas age is 20\n",
      "Lukas age is 21\n",
      "Lukas age is 22\n",
      "Lukas age is 23\n",
      "Lukas age is 24\n",
      "Lukas age is 25\n",
      "Lukas age is 26\n",
      "Lukas age is 27\n",
      "Lukas age is 28\n",
      "Lukas age is 29\n",
      "Lukas age is 30\n",
      "Lukas age is 31\n",
      "Lukas age is 32\n",
      "Lukas age is 33\n",
      "Lukas age is 34\n",
      "Lukas age is 35\n",
      "Lukas age is 36\n",
      "Lukas age is 37\n",
      "Lukas age is 38\n",
      "Lukas age is 39\n",
      "Lukas age is 40\n",
      "Lukas age is 41\n",
      "Lukas age is 42\n",
      "Lukas age is 43\n",
      "Lukas age is 44\n",
      "Lukas age is 45\n",
      "Lukas age is 46\n",
      "Lukas age is 47\n",
      "Lukas age is 48\n",
      "Lukas age is 49\n",
      "Lukas age is 50\n",
      "Lukas age is 51\n",
      "Lukas age is 52\n",
      "Lukas age is 53\n",
      "Lukas age is 54\n",
      "Lukas age is 55\n",
      "Lukas age is 56\n",
      "Lukas age is 57\n",
      "Lukas age is 58\n",
      "Lukas age is 59\n",
      "Lukas age is 60\n",
      "Lukas age is 61\n",
      "Lukas age is 62\n",
      "Lukas age is 63\n",
      "Lukas age is 64\n",
      "Lukas age is 65\n",
      "Lukas age is 66\n",
      "Lukas age is 67\n",
      "Lukas age is 68\n",
      "Lukas age is 69\n",
      "Lukas age is 70\n",
      "Lukas age is 71\n",
      "Lukas age is 72\n",
      "Lukas age is 73\n",
      "Lukas age is 74\n",
      "Lukas age is 75\n",
      "Lukas age is 76\n",
      "Lukas age is 77\n",
      "Lukas age is 78\n",
      "Lukas age is 79\n"
     ]
    }
   ],
   "source": [
    "for x in range(1,80):\n",
    "    print ('Lukas age is %d'  %(x) )"
   ]
  },
  {
   "cell_type": "markdown",
   "id": "53d5b0cc",
   "metadata": {},
   "source": [
    "%d is a place holder. %creates a string"
   ]
  },
  {
   "cell_type": "code",
   "execution_count": 14,
   "id": "da1c3628",
   "metadata": {},
   "outputs": [
    {
     "data": {
      "text/plain": [
       "0    6204182\n",
       "1    5660230\n",
       "6    4496490\n",
       "2    4213830\n",
       "5    4205791\n",
       "3    3840534\n",
       "4    3783802\n",
       "Name: orders_day_of_week, dtype: int64"
      ]
     },
     "execution_count": 14,
     "metadata": {},
     "output_type": "execute_result"
    }
   ],
   "source": [
    "ords_prods_merge['orders_day_of_week'].value_counts(dropna = False)"
   ]
  },
  {
   "cell_type": "markdown",
   "id": "c1466459",
   "metadata": {},
   "source": [
    "### Creating a busyness range using For-loop"
   ]
  },
  {
   "cell_type": "code",
   "execution_count": 15,
   "id": "5ae5c6c5",
   "metadata": {},
   "outputs": [],
   "source": [
    "result = []\n",
    "\n",
    "for value in ords_prods_merge['orders_day_of_week']:\n",
    "    if value == 0:\n",
    "        result.append('Busiest day')\n",
    "    elif value ==4:\n",
    "        result.append('Least busy')\n",
    "    else:\n",
    "        result.append('Regular busy')"
   ]
  },
  {
   "cell_type": "markdown",
   "id": "a460ab51",
   "metadata": {},
   "source": [
    "After running your loop, print the result list and see what shows up:\n"
   ]
  },
  {
   "cell_type": "code",
   "execution_count": 16,
   "id": "08426e12",
   "metadata": {},
   "outputs": [],
   "source": [
    "ords_prods_merge['busiest_day'] = result"
   ]
  },
  {
   "cell_type": "code",
   "execution_count": 17,
   "id": "dd9342a9",
   "metadata": {},
   "outputs": [
    {
     "data": {
      "text/plain": [
       "Regular busy    22416875\n",
       "Busiest day      6204182\n",
       "Least busy       3783802\n",
       "Name: busiest_day, dtype: int64"
      ]
     },
     "execution_count": 17,
     "metadata": {},
     "output_type": "execute_result"
    }
   ],
   "source": [
    "ords_prods_merge['busiest_day'].value_counts(dropna = False)"
   ]
  },
  {
   "cell_type": "markdown",
   "id": "80ec6f33",
   "metadata": {},
   "source": [
    "# Tasks"
   ]
  },
  {
   "cell_type": "code",
   "execution_count": 23,
   "id": "be062869",
   "metadata": {},
   "outputs": [
    {
     "data": {
      "text/html": [
       "<div>\n",
       "<style scoped>\n",
       "    .dataframe tbody tr th:only-of-type {\n",
       "        vertical-align: middle;\n",
       "    }\n",
       "\n",
       "    .dataframe tbody tr th {\n",
       "        vertical-align: top;\n",
       "    }\n",
       "\n",
       "    .dataframe thead th {\n",
       "        text-align: right;\n",
       "    }\n",
       "</style>\n",
       "<table border=\"1\" class=\"dataframe\">\n",
       "  <thead>\n",
       "    <tr style=\"text-align: right;\">\n",
       "      <th></th>\n",
       "      <th>product_id</th>\n",
       "      <th>product_name</th>\n",
       "      <th>aisle_id</th>\n",
       "      <th>department_id</th>\n",
       "      <th>prices</th>\n",
       "      <th>order_id</th>\n",
       "      <th>user_id</th>\n",
       "      <th>order_number</th>\n",
       "      <th>orders_day_of_week</th>\n",
       "      <th>order_hour_of_day</th>\n",
       "      <th>days_since_last_order</th>\n",
       "      <th>new_customer</th>\n",
       "      <th>add_to_cart_order</th>\n",
       "      <th>reordered</th>\n",
       "      <th>_merge</th>\n",
       "      <th>busiest_day</th>\n",
       "    </tr>\n",
       "  </thead>\n",
       "  <tbody>\n",
       "    <tr>\n",
       "      <th>0</th>\n",
       "      <td>1</td>\n",
       "      <td>Chocolate Sandwich Cookies</td>\n",
       "      <td>61</td>\n",
       "      <td>19</td>\n",
       "      <td>5.8</td>\n",
       "      <td>3139998</td>\n",
       "      <td>138</td>\n",
       "      <td>28</td>\n",
       "      <td>6</td>\n",
       "      <td>11</td>\n",
       "      <td>3.0</td>\n",
       "      <td>False</td>\n",
       "      <td>5</td>\n",
       "      <td>0</td>\n",
       "      <td>both</td>\n",
       "      <td>Regular busy</td>\n",
       "    </tr>\n",
       "  </tbody>\n",
       "</table>\n",
       "</div>"
      ],
      "text/plain": [
       "   product_id                product_name  aisle_id  department_id  prices  \\\n",
       "0           1  Chocolate Sandwich Cookies        61             19     5.8   \n",
       "\n",
       "   order_id  user_id  order_number  orders_day_of_week  order_hour_of_day  \\\n",
       "0   3139998      138            28                   6                 11   \n",
       "\n",
       "   days_since_last_order  new_customer  add_to_cart_order  reordered _merge  \\\n",
       "0                    3.0         False                  5          0   both   \n",
       "\n",
       "    busiest_day  \n",
       "0  Regular busy  "
      ]
     },
     "execution_count": 23,
     "metadata": {},
     "output_type": "execute_result"
    }
   ],
   "source": [
    "ords_prods_merge.head(1)"
   ]
  },
  {
   "cell_type": "code",
   "execution_count": 22,
   "id": "a716f81a",
   "metadata": {},
   "outputs": [],
   "source": [
    "ords_prods_merge = ords_prods_merge.drop(columns = ['Unnamed: 0_y'])"
   ]
  },
  {
   "cell_type": "markdown",
   "id": "3f283df3",
   "metadata": {},
   "source": [
    "#### Suppose your clients have changed their minds about the labels you created in your “busiest_day” column. Now, they want “Busiest day” to become “Busiest days” (plural). This label should correspond with the two busiest days of the week as opposed to the single busiest day. At the same time, they’d also like to know the two slowest days. Create a new column for this using a suitable method."
   ]
  },
  {
   "cell_type": "markdown",
   "id": "1818d20f",
   "metadata": {},
   "source": [
    "Busiest day is 0 (Saturday) and the second busiest is 1 (Sunday). \n",
    "Slowest day is 4 (Wednesday) and the second slowest is 3 (Tuesday)."
   ]
  },
  {
   "cell_type": "code",
   "execution_count": 27,
   "id": "d4599fd7",
   "metadata": {},
   "outputs": [],
   "source": [
    "result2 = []\n",
    "\n",
    "for value in ords_prods_merge['orders_day_of_week']:\n",
    "    if value in (0,1):\n",
    "        result2.append('Busiest day')\n",
    "    elif value in (3,4):\n",
    "        result2.append('Least busy')\n",
    "    else:\n",
    "        result2.append('Regular busy')"
   ]
  },
  {
   "cell_type": "code",
   "execution_count": 28,
   "id": "1f79e504",
   "metadata": {},
   "outputs": [],
   "source": [
    "#add column 'busiest_days'\n",
    "ords_prods_merge['busiest_days'] = result2"
   ]
  },
  {
   "cell_type": "code",
   "execution_count": 30,
   "id": "a81cd6d5",
   "metadata": {},
   "outputs": [],
   "source": [
    "#drop 'busiest_day'\n",
    "ords_prods_merge= ords_prods_merge.drop(columns = ['busiest_day'])"
   ]
  },
  {
   "cell_type": "code",
   "execution_count": 32,
   "id": "613fe5e7",
   "metadata": {},
   "outputs": [
    {
     "data": {
      "text/plain": [
       "Regular busy    12916111\n",
       "Busiest day     11864412\n",
       "Least busy       7624336\n",
       "Name: busiest_days, dtype: int64"
      ]
     },
     "execution_count": 32,
     "metadata": {},
     "output_type": "execute_result"
    }
   ],
   "source": [
    "ords_prods_merge['busiest_days'].value_counts(dropna =False)"
   ]
  },
  {
   "cell_type": "markdown",
   "id": "3d95f509",
   "metadata": {},
   "source": [
    "#### Observation\n",
    "\n",
    "- The value counts of busiest day and least busy are increased which suggests they are labeled correctly. "
   ]
  },
  {
   "cell_type": "code",
   "execution_count": 33,
   "id": "934c8604",
   "metadata": {},
   "outputs": [],
   "source": [
    "select_columns = ords_prods_merge[['orders_day_of_week', 'busiest_days']]"
   ]
  },
  {
   "cell_type": "code",
   "execution_count": 36,
   "id": "4adb8882",
   "metadata": {},
   "outputs": [
    {
     "data": {
      "text/html": [
       "<div>\n",
       "<style scoped>\n",
       "    .dataframe tbody tr th:only-of-type {\n",
       "        vertical-align: middle;\n",
       "    }\n",
       "\n",
       "    .dataframe tbody tr th {\n",
       "        vertical-align: top;\n",
       "    }\n",
       "\n",
       "    .dataframe thead th {\n",
       "        text-align: right;\n",
       "    }\n",
       "</style>\n",
       "<table border=\"1\" class=\"dataframe\">\n",
       "  <thead>\n",
       "    <tr style=\"text-align: right;\">\n",
       "      <th></th>\n",
       "      <th>orders_day_of_week</th>\n",
       "      <th>busiest_days</th>\n",
       "    </tr>\n",
       "  </thead>\n",
       "  <tbody>\n",
       "    <tr>\n",
       "      <th>0</th>\n",
       "      <td>6</td>\n",
       "      <td>Regular busy</td>\n",
       "    </tr>\n",
       "    <tr>\n",
       "      <th>1</th>\n",
       "      <td>6</td>\n",
       "      <td>Regular busy</td>\n",
       "    </tr>\n",
       "    <tr>\n",
       "      <th>2</th>\n",
       "      <td>0</td>\n",
       "      <td>Busiest day</td>\n",
       "    </tr>\n",
       "    <tr>\n",
       "      <th>3</th>\n",
       "      <td>3</td>\n",
       "      <td>Least busy</td>\n",
       "    </tr>\n",
       "    <tr>\n",
       "      <th>4</th>\n",
       "      <td>4</td>\n",
       "      <td>Least busy</td>\n",
       "    </tr>\n",
       "    <tr>\n",
       "      <th>5</th>\n",
       "      <td>1</td>\n",
       "      <td>Busiest day</td>\n",
       "    </tr>\n",
       "    <tr>\n",
       "      <th>6</th>\n",
       "      <td>2</td>\n",
       "      <td>Regular busy</td>\n",
       "    </tr>\n",
       "    <tr>\n",
       "      <th>7</th>\n",
       "      <td>3</td>\n",
       "      <td>Least busy</td>\n",
       "    </tr>\n",
       "    <tr>\n",
       "      <th>8</th>\n",
       "      <td>1</td>\n",
       "      <td>Busiest day</td>\n",
       "    </tr>\n",
       "    <tr>\n",
       "      <th>9</th>\n",
       "      <td>1</td>\n",
       "      <td>Busiest day</td>\n",
       "    </tr>\n",
       "    <tr>\n",
       "      <th>10</th>\n",
       "      <td>5</td>\n",
       "      <td>Regular busy</td>\n",
       "    </tr>\n",
       "    <tr>\n",
       "      <th>11</th>\n",
       "      <td>3</td>\n",
       "      <td>Least busy</td>\n",
       "    </tr>\n",
       "    <tr>\n",
       "      <th>12</th>\n",
       "      <td>4</td>\n",
       "      <td>Least busy</td>\n",
       "    </tr>\n",
       "    <tr>\n",
       "      <th>13</th>\n",
       "      <td>2</td>\n",
       "      <td>Regular busy</td>\n",
       "    </tr>\n",
       "    <tr>\n",
       "      <th>14</th>\n",
       "      <td>3</td>\n",
       "      <td>Least busy</td>\n",
       "    </tr>\n",
       "    <tr>\n",
       "      <th>15</th>\n",
       "      <td>2</td>\n",
       "      <td>Regular busy</td>\n",
       "    </tr>\n",
       "    <tr>\n",
       "      <th>16</th>\n",
       "      <td>5</td>\n",
       "      <td>Regular busy</td>\n",
       "    </tr>\n",
       "    <tr>\n",
       "      <th>17</th>\n",
       "      <td>2</td>\n",
       "      <td>Regular busy</td>\n",
       "    </tr>\n",
       "    <tr>\n",
       "      <th>18</th>\n",
       "      <td>1</td>\n",
       "      <td>Busiest day</td>\n",
       "    </tr>\n",
       "    <tr>\n",
       "      <th>19</th>\n",
       "      <td>1</td>\n",
       "      <td>Busiest day</td>\n",
       "    </tr>\n",
       "    <tr>\n",
       "      <th>20</th>\n",
       "      <td>2</td>\n",
       "      <td>Regular busy</td>\n",
       "    </tr>\n",
       "    <tr>\n",
       "      <th>21</th>\n",
       "      <td>1</td>\n",
       "      <td>Busiest day</td>\n",
       "    </tr>\n",
       "    <tr>\n",
       "      <th>22</th>\n",
       "      <td>1</td>\n",
       "      <td>Busiest day</td>\n",
       "    </tr>\n",
       "    <tr>\n",
       "      <th>23</th>\n",
       "      <td>1</td>\n",
       "      <td>Busiest day</td>\n",
       "    </tr>\n",
       "    <tr>\n",
       "      <th>24</th>\n",
       "      <td>1</td>\n",
       "      <td>Busiest day</td>\n",
       "    </tr>\n",
       "    <tr>\n",
       "      <th>25</th>\n",
       "      <td>0</td>\n",
       "      <td>Busiest day</td>\n",
       "    </tr>\n",
       "    <tr>\n",
       "      <th>26</th>\n",
       "      <td>0</td>\n",
       "      <td>Busiest day</td>\n",
       "    </tr>\n",
       "    <tr>\n",
       "      <th>27</th>\n",
       "      <td>0</td>\n",
       "      <td>Busiest day</td>\n",
       "    </tr>\n",
       "    <tr>\n",
       "      <th>28</th>\n",
       "      <td>0</td>\n",
       "      <td>Busiest day</td>\n",
       "    </tr>\n",
       "    <tr>\n",
       "      <th>29</th>\n",
       "      <td>0</td>\n",
       "      <td>Busiest day</td>\n",
       "    </tr>\n",
       "  </tbody>\n",
       "</table>\n",
       "</div>"
      ],
      "text/plain": [
       "    orders_day_of_week  busiest_days\n",
       "0                    6  Regular busy\n",
       "1                    6  Regular busy\n",
       "2                    0   Busiest day\n",
       "3                    3    Least busy\n",
       "4                    4    Least busy\n",
       "5                    1   Busiest day\n",
       "6                    2  Regular busy\n",
       "7                    3    Least busy\n",
       "8                    1   Busiest day\n",
       "9                    1   Busiest day\n",
       "10                   5  Regular busy\n",
       "11                   3    Least busy\n",
       "12                   4    Least busy\n",
       "13                   2  Regular busy\n",
       "14                   3    Least busy\n",
       "15                   2  Regular busy\n",
       "16                   5  Regular busy\n",
       "17                   2  Regular busy\n",
       "18                   1   Busiest day\n",
       "19                   1   Busiest day\n",
       "20                   2  Regular busy\n",
       "21                   1   Busiest day\n",
       "22                   1   Busiest day\n",
       "23                   1   Busiest day\n",
       "24                   1   Busiest day\n",
       "25                   0   Busiest day\n",
       "26                   0   Busiest day\n",
       "27                   0   Busiest day\n",
       "28                   0   Busiest day\n",
       "29                   0   Busiest day"
      ]
     },
     "execution_count": 36,
     "metadata": {},
     "output_type": "execute_result"
    }
   ],
   "source": [
    "#making sure they are labeled at the right place \n",
    "select_columns.head(30)"
   ]
  },
  {
   "cell_type": "markdown",
   "id": "05d2e55c",
   "metadata": {},
   "source": [
    "#### When too many users make Instacart orders at the same time, the app freezes. The senior technical officer at Instacart wants you to identify the busiest hours of the day. Rather than by hour, they want periods of time labeled “Most orders,” “Average orders,” and “Fewest orders.” Create a new column containing these labels called “busiest_period_of_day.”"
   ]
  },
  {
   "cell_type": "code",
   "execution_count": 38,
   "id": "e41bf4c7",
   "metadata": {},
   "outputs": [
    {
     "data": {
      "text/plain": [
       "10    2761760\n",
       "11    2736140\n",
       "14    2689136\n",
       "15    2662144\n",
       "13    2660954\n",
       "12    2618532\n",
       "16    2535202\n",
       "9     2454203\n",
       "17    2087654\n",
       "8     1718118\n",
       "18    1636502\n",
       "19    1258305\n",
       "20     976156\n",
       "7      891054\n",
       "21     795637\n",
       "22     634225\n",
       "23     402316\n",
       "6      290493\n",
       "0      218769\n",
       "1      115700\n",
       "5       87961\n",
       "2       69375\n",
       "4       53242\n",
       "3       51281\n",
       "Name: order_hour_of_day, dtype: int64"
      ]
     },
     "execution_count": 38,
     "metadata": {},
     "output_type": "execute_result"
    }
   ],
   "source": [
    "#check value counts of order_hour_of_day\n",
    "\n",
    "ords_prods_merge['order_hour_of_day'].value_counts(dropna = False)"
   ]
  },
  {
   "cell_type": "markdown",
   "id": "3c049016",
   "metadata": {},
   "source": [
    "3 periods of time can be separated in 24/3 = 8. \n",
    "\n",
    "The counts above shows \n",
    "\n",
    " - most orders = 10,11,14,15,13,12,16, 9 \n",
    " - average orders = 17,8,18,19,20,7,21,22\n",
    " - low orders = 23,6,0,1,5,2,4,3\n",
    " \n",
    " "
   ]
  },
  {
   "cell_type": "code",
   "execution_count": 44,
   "id": "9ab39292",
   "metadata": {},
   "outputs": [],
   "source": [
    "# Use For-loops to create a new column\n",
    "\n",
    "result3 = []\n",
    "\n",
    "for x in ords_prods_merge['order_hour_of_day']:\n",
    "    if x in (10,11,14,15,13,12,16, 9):\n",
    "        result3.append('Most orders')\n",
    "    if x in (17,8,18,19,20,7,21,22):\n",
    "        result3.append('Average orders')\n",
    "    if x in (23,6,0,1,5,2,4,3):\n",
    "        result3.append('Fewest orders')\n",
    "        \n",
    "        "
   ]
  },
  {
   "cell_type": "code",
   "execution_count": 46,
   "id": "a89a7e92",
   "metadata": {},
   "outputs": [],
   "source": [
    "#add column\n",
    "ords_prods_merge['most_orders'] = result3"
   ]
  },
  {
   "cell_type": "code",
   "execution_count": 47,
   "id": "b8427d33",
   "metadata": {},
   "outputs": [
    {
     "data": {
      "text/plain": [
       "Most orders       21118071\n",
       "Average orders     9997651\n",
       "Fewest orders      1289137\n",
       "Name: most_orders, dtype: int64"
      ]
     },
     "execution_count": 47,
     "metadata": {},
     "output_type": "execute_result"
    }
   ],
   "source": [
    "#count values\n",
    "ords_prods_merge['most_orders'].value_counts(dropna=False)"
   ]
  },
  {
   "cell_type": "code",
   "execution_count": 48,
   "id": "cc6bad9e",
   "metadata": {},
   "outputs": [],
   "source": [
    "#export\n",
    "ords_prods_merge.to_pickle(os.path.join(path, '02 Data','02 Prepared Data', 'orders_products_new_values_added.pkl'))"
   ]
  },
  {
   "cell_type": "code",
   "execution_count": null,
   "id": "82314f3d",
   "metadata": {},
   "outputs": [],
   "source": []
  },
  {
   "cell_type": "code",
   "execution_count": null,
   "id": "d23713a5",
   "metadata": {},
   "outputs": [],
   "source": []
  },
  {
   "cell_type": "code",
   "execution_count": null,
   "id": "7460866a",
   "metadata": {},
   "outputs": [],
   "source": []
  },
  {
   "cell_type": "code",
   "execution_count": null,
   "id": "d926c380",
   "metadata": {},
   "outputs": [],
   "source": []
  },
  {
   "cell_type": "code",
   "execution_count": null,
   "id": "d5538508",
   "metadata": {},
   "outputs": [],
   "source": []
  },
  {
   "cell_type": "code",
   "execution_count": null,
   "id": "57684594",
   "metadata": {},
   "outputs": [],
   "source": []
  }
 ],
 "metadata": {
  "kernelspec": {
   "display_name": "Python 3 (ipykernel)",
   "language": "python",
   "name": "python3"
  },
  "language_info": {
   "codemirror_mode": {
    "name": "ipython",
    "version": 3
   },
   "file_extension": ".py",
   "mimetype": "text/x-python",
   "name": "python",
   "nbconvert_exporter": "python",
   "pygments_lexer": "ipython3",
   "version": "3.11.4"
  }
 },
 "nbformat": 4,
 "nbformat_minor": 5
}
