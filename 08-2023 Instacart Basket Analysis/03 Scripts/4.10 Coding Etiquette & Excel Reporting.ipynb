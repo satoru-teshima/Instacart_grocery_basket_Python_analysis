{
 "cells": [
  {
   "cell_type": "code",
   "execution_count": null,
   "id": "5d406213",
   "metadata": {},
   "outputs": [],
   "source": [
    "#importing pandas, numpy and os\n",
    "import pandas as pd\n",
    "import numpy as np\n",
    "import os"
   ]
  },
  {
   "cell_type": "code",
   "execution_count": null,
   "id": "ee598b60",
   "metadata": {},
   "outputs": [],
   "source": [
    "#import the latest pickle file\n",
    "path = \"/Users/satoruteshima/Documents/CareerFoundry/Data Immersion 4/08-2023 Instacart Basket Analysis\"\n",
    "ords_prods_merge = pd.read_pickle(os.path.join( path, '02 Data', '02 Prepared Data', 'orders_products_customer_merged_final.pkl'))"
   ]
  },
  {
   "cell_type": "markdown",
   "id": "c4fedc1f",
   "metadata": {},
   "source": [
    "# Using Excel with Python\n"
   ]
  },
  {
   "cell_type": "markdown",
   "id": "195b449e",
   "metadata": {},
   "source": [
    "## Crosstabs in Python\n",
    "\n",
    "Crosstabs are a common tool for conducting data checks in Python. Think of them as Python’s version of Excel’s pivot tables. Let’s try creating one using an example from Instacart.\n",
    "\n",
    "“days_since_prior_order”  contains Nan values. But can you be sure that all the missing values in this column exist because it is the first order? \n",
    "\n",
    "A better way to check this would be to create a crosstab between the “days_since_prior_order” column and the “order_number” column. Execute the following code to create crosstabs. \n",
    "\n",
    "\n"
   ]
  },
  {
   "cell_type": "code",
   "execution_count": null,
   "id": "4b9ec0c4",
   "metadata": {},
   "outputs": [],
   "source": [
    "#create crosstabs\n",
    "\n",
    "crosstab = pd.crosstab(ords_prods_merge['days_since_last_order'], ords_prods_merge['order_number'], dropna = False)"
   ]
  },
  {
   "cell_type": "code",
   "execution_count": null,
   "id": "be6ce282",
   "metadata": {},
   "outputs": [],
   "source": [
    "#copy it to clipboard\n",
    "crosstab.to_clipboard()\n"
   ]
  },
  {
   "cell_type": "markdown",
   "id": "4c99a6dc",
   "metadata": {},
   "source": [
    "Open excel and copy it in the spreadsheet"
   ]
  },
  {
   "cell_type": "markdown",
   "id": "eeef206b",
   "metadata": {},
   "source": [
    "# Python Text Editor\n"
   ]
  },
  {
   "cell_type": "code",
   "execution_count": null,
   "id": "c0b12d2c",
   "metadata": {},
   "outputs": [],
   "source": [
    "ords_prods_merge.columns"
   ]
  },
  {
   "cell_type": "code",
   "execution_count": null,
   "id": "2a45c79e",
   "metadata": {},
   "outputs": [],
   "source": []
  },
  {
   "cell_type": "code",
   "execution_count": null,
   "id": "b6144645",
   "metadata": {},
   "outputs": [],
   "source": []
  },
  {
   "cell_type": "code",
   "execution_count": null,
   "id": "c5413bb5",
   "metadata": {},
   "outputs": [],
   "source": []
  },
  {
   "cell_type": "code",
   "execution_count": null,
   "id": "15d970c4",
   "metadata": {},
   "outputs": [],
   "source": []
  },
  {
   "cell_type": "code",
   "execution_count": null,
   "id": "82cfc4b1",
   "metadata": {},
   "outputs": [],
   "source": []
  },
  {
   "cell_type": "code",
   "execution_count": null,
   "id": "bb7d6dd2",
   "metadata": {},
   "outputs": [],
   "source": []
  },
  {
   "cell_type": "code",
   "execution_count": null,
   "id": "17607a6a",
   "metadata": {},
   "outputs": [],
   "source": []
  },
  {
   "cell_type": "code",
   "execution_count": null,
   "id": "6c108b56",
   "metadata": {},
   "outputs": [],
   "source": []
  },
  {
   "cell_type": "code",
   "execution_count": null,
   "id": "a953cb87",
   "metadata": {},
   "outputs": [],
   "source": []
  },
  {
   "cell_type": "code",
   "execution_count": null,
   "id": "93dcab85",
   "metadata": {},
   "outputs": [],
   "source": []
  },
  {
   "cell_type": "code",
   "execution_count": null,
   "id": "c9fa04f1",
   "metadata": {},
   "outputs": [],
   "source": []
  },
  {
   "cell_type": "code",
   "execution_count": null,
   "id": "cc9baf7b",
   "metadata": {},
   "outputs": [],
   "source": []
  },
  {
   "cell_type": "code",
   "execution_count": null,
   "id": "02bcbb21",
   "metadata": {},
   "outputs": [],
   "source": []
  },
  {
   "cell_type": "code",
   "execution_count": null,
   "id": "778628f6",
   "metadata": {},
   "outputs": [],
   "source": []
  },
  {
   "cell_type": "code",
   "execution_count": null,
   "id": "63954a20",
   "metadata": {},
   "outputs": [],
   "source": []
  },
  {
   "cell_type": "code",
   "execution_count": null,
   "id": "9bf54ea3",
   "metadata": {},
   "outputs": [],
   "source": []
  },
  {
   "cell_type": "code",
   "execution_count": null,
   "id": "fc01eefe",
   "metadata": {},
   "outputs": [],
   "source": []
  },
  {
   "cell_type": "code",
   "execution_count": null,
   "id": "b2975fcf",
   "metadata": {},
   "outputs": [],
   "source": []
  },
  {
   "cell_type": "code",
   "execution_count": null,
   "id": "a33bf4b5",
   "metadata": {},
   "outputs": [],
   "source": []
  },
  {
   "cell_type": "code",
   "execution_count": null,
   "id": "5d75fc92",
   "metadata": {},
   "outputs": [],
   "source": []
  },
  {
   "cell_type": "code",
   "execution_count": null,
   "id": "757c86a2",
   "metadata": {},
   "outputs": [],
   "source": []
  },
  {
   "cell_type": "code",
   "execution_count": null,
   "id": "6f6db24f",
   "metadata": {},
   "outputs": [],
   "source": []
  }
 ],
 "metadata": {
  "kernelspec": {
   "display_name": "Python 3 (ipykernel)",
   "language": "python",
   "name": "python3"
  },
  "language_info": {
   "codemirror_mode": {
    "name": "ipython",
    "version": 3
   },
   "file_extension": ".py",
   "mimetype": "text/x-python",
   "name": "python",
   "nbconvert_exporter": "python",
   "pygments_lexer": "ipython3",
   "version": "3.11.4"
  }
 },
 "nbformat": 4,
 "nbformat_minor": 5
}
