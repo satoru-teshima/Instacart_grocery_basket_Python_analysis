{
 "cells": [
  {
   "cell_type": "code",
   "execution_count": 2,
   "id": "6555de3f",
   "metadata": {},
   "outputs": [],
   "source": [
    "#import libraries \n",
    "import pandas as pd\n",
    "import numpy as np\n",
    "import os"
   ]
  },
  {
   "cell_type": "code",
   "execution_count": 3,
   "id": "8350e909",
   "metadata": {},
   "outputs": [],
   "source": [
    "#import the latest pickle file\n",
    "path = \"/Users/satoruteshima/Documents/CareerFoundry/Data Immersion 4/08-2023 Instacart Basket Analysis\"\n",
    "ords_prods_merge = pd.read_pickle(os.path.join( path, '02 Data', '02 Prepared Data', 'orders_products_customer_merged_final.pkl'))"
   ]
  },
  {
   "cell_type": "markdown",
   "id": "d9574ecc",
   "metadata": {},
   "source": [
    "# TASKS"
   ]
  },
  {
   "cell_type": "markdown",
   "id": "2febe069",
   "metadata": {},
   "source": [
    "#### Consider any security implications that might exist for this new data. You’ll need to address any PII data in the data before continuing your analysis."
   ]
  },
  {
   "cell_type": "markdown",
   "id": "e923c9c6",
   "metadata": {},
   "source": [
    "- first_name, surname could be used to potentially be traced back to a particular person. Hence these columns are dropped for this analysis. "
   ]
  },
  {
   "cell_type": "markdown",
   "id": "2bbb6fcd",
   "metadata": {},
   "source": [
    "#### The Instacart officers are interested in comparing customer behavior in different geographic areas. Create a regional segmentation of the data. You’ll need to create a “Region” column based on the “State” column from your customers data set.\n",
    "\n",
    "- Use the region information in this Wikipedia article to create your column (you only need to create regions, not divisions).\n"
   ]
  },
  {
   "cell_type": "markdown",
   "id": "1238c39e",
   "metadata": {},
   "source": [
    "### Regions according to Wikipedia article\n",
    "\n",
    "- Region 1 (Northeast)\n",
    "    'Maine', \n",
    "    'New Hampshire',\n",
    "    'Vermont',\n",
    "   ' Massachusetts',\n",
    "    'Rhode Island',\n",
    "    'Connecticut',\n",
    "    'New York',\n",
    "    'Pennsylvania',\n",
    "    'New Jersey',\n",
    "\n",
    "- Region 2 (Midwest)\n",
    "    'Wisconsin',\n",
    "    'Michigan',\n",
    "    'Illinois',\n",
    "   ' Indiana',\n",
    "    'Ohio',\n",
    "    'North Dakota',\n",
    "    'South Dakota',\n",
    "    'Nebraska',\n",
    "    'Kansas',\n",
    "    'Minnesota',\n",
    "   'Iowa',\n",
    "    'Missouri',\n",
    "\n",
    "- Region 3 (South)\n",
    "'Delaware',\n",
    "'Maryland',\n",
    "'District of Columbia',\n",
    "'Virginia',\n",
    "'West Virginia',\n",
    "'North Carolina',\n",
    "'South Carolina',\n",
    "'Georgia',\n",
    "'Florida',\n",
    "'Kentucky',\n",
    "'Tennessee',\n",
    "'Mississippi',\n",
    "'Alabama',\n",
    "'Oklahoma',\n",
    "'Texas',\n",
    "'Arkansas',\n",
    "'Louisiana',\n",
    "\n",
    "- Region 4 (West)\n",
    "'Idaho',\n",
    "'Montana',\n",
    "'Wyoming',\n",
    "'Nevada',\n",
    "'Utah',\n",
    "'Colorado',\n",
    "'Arizona',\n",
    "'New Mexico',\n",
    "'Alaska',\n",
    "'Washington',\n",
    "'Oregon',\n",
    "'California',\n",
    "'Hawaii',"
   ]
  },
  {
   "cell_type": "code",
   "execution_count": 39,
   "id": "1802a363",
   "metadata": {},
   "outputs": [],
   "source": [
    "#create lists of regions in  new variables\n",
    "northwest_states = ['Maine', 'New Hampshire', 'Vermont', 'Massachusetts', 'Rhode Island', 'Connecticut', 'New York', 'Pennsylvania', 'New Jersey']\n",
    "midwest_states = ['Wisconsin', 'Michigan', 'Illinois', 'Indiana', 'Ohio', 'North Dakota', 'South Dakota', 'Nebraska', 'Kansas', 'Minnesota', 'Iowa', 'Missouri']\n",
    "south_states = ['Delaware', 'Maryland', 'District of Columbia', 'Virginia', 'West Virginia', 'North Carolina', 'South Carolina', 'Georgia', 'Florida', 'Kentucky', 'Tennessee', 'Mississippi', 'Alabama', 'Oklahoma', 'Texas', 'Arkansas', 'Louisiana']\n",
    "west_states = ['Idaho', 'Montana', 'Wyoming', 'Nevada', 'Utah', 'Colorado', 'Arizona', 'New Mexico', 'Alaska', 'Washington', 'Oregon', 'California', 'Hawaii']\n",
    "\n"
   ]
  },
  {
   "cell_type": "code",
   "execution_count": 40,
   "id": "adfaab4e",
   "metadata": {},
   "outputs": [],
   "source": [
    "#create a new tab 'Region' using the loc function \n",
    "ords_prods_merge.loc[\n",
    "    ords_prods_merge['state'] .isin (northwest_states), 'region'\n",
    "    ] = 'Northwest'\n",
    "ords_prods_merge.loc[\n",
    "    ords_prods_merge['state'] .isin (midwest_states), 'region'\n",
    "    ] = 'Midwest'\n",
    "ords_prods_merge.loc[\n",
    "    ords_prods_merge['state'] .isin (south_states), 'region'\n",
    "    ] = 'South'\n",
    "ords_prods_merge.loc[\n",
    "    ords_prods_merge['state'] .isin (west_states), 'region'\n",
    "    ] = 'West'"
   ]
  },
  {
   "cell_type": "code",
   "execution_count": 37,
   "id": "b92907f0",
   "metadata": {},
   "outputs": [
    {
     "data": {
      "text/plain": [
       "South        10791885\n",
       "West          8292913\n",
       "Midwest       6970043\n",
       "Northwest     5722736\n",
       "NaN            627282\n",
       "Name: region, dtype: int64"
      ]
     },
     "execution_count": 37,
     "metadata": {},
     "output_type": "execute_result"
    }
   ],
   "source": [
    "#check result \n",
    "ords_prods_merge['region'].value_counts(dropna = False)\n"
   ]
  },
  {
   "cell_type": "markdown",
   "id": "0cede58d",
   "metadata": {},
   "source": [
    "There are 627282 NaN values. This needs to be investigated. "
   ]
  },
  {
   "cell_type": "code",
   "execution_count": 20,
   "id": "b06eb41a",
   "metadata": {},
   "outputs": [],
   "source": [
    "#create a subset that includes the column 'Region' and 'State' that includes NaN values.\n",
    "df_subset = ords_prods_merge[['region', 'state']]"
   ]
  },
  {
   "cell_type": "code",
   "execution_count": 29,
   "id": "8744a02e",
   "metadata": {},
   "outputs": [],
   "source": [
    "df_subset_region_null= df_subset.loc [\n",
    "    df_subset['region'] .isna()\n",
    "]"
   ]
  },
  {
   "cell_type": "code",
   "execution_count": 30,
   "id": "4b1f8f60",
   "metadata": {},
   "outputs": [
    {
     "data": {
      "text/plain": [
       "NaN    627282\n",
       "Name: region, dtype: int64"
      ]
     },
     "execution_count": 30,
     "metadata": {},
     "output_type": "execute_result"
    }
   ],
   "source": [
    "#count values\n",
    "df_subset_region_null['region'].value_counts(dropna = False)"
   ]
  },
  {
   "cell_type": "code",
   "execution_count": 38,
   "id": "b83cd0e4",
   "metadata": {},
   "outputs": [
    {
     "data": {
      "text/plain": [
       "region  state  \n",
       "NaN     Indiana    627282\n",
       "dtype: int64"
      ]
     },
     "execution_count": 38,
     "metadata": {},
     "output_type": "execute_result"
    }
   ],
   "source": [
    "#what's causing the Nan value? \n",
    "df_subset_region_null.value_counts(dropna = False)"
   ]
  },
  {
   "cell_type": "markdown",
   "id": "ed9130b2",
   "metadata": {},
   "source": [
    "- There was a space in between quatation mark and indiana ( ' Indiana'). Rerun the codes and see what happens. "
   ]
  },
  {
   "cell_type": "code",
   "execution_count": 41,
   "id": "aba26c30",
   "metadata": {},
   "outputs": [
    {
     "data": {
      "text/plain": [
       "South        10791885\n",
       "West          8292913\n",
       "Midwest       7597325\n",
       "Northwest     5722736\n",
       "Name: region, dtype: int64"
      ]
     },
     "execution_count": 41,
     "metadata": {},
     "output_type": "execute_result"
    }
   ],
   "source": [
    "#check result \n",
    "ords_prods_merge['region'].value_counts(dropna = False)\n"
   ]
  },
  {
   "cell_type": "markdown",
   "id": "170b8b4c",
   "metadata": {},
   "source": [
    "- Determine whether there’s a difference in spending habits between the different U.S. regions. (Hint: You can do this by crossing the variable you just created with the spending flag.)"
   ]
  },
  {
   "cell_type": "code",
   "execution_count": 42,
   "id": "3e47e8ae",
   "metadata": {},
   "outputs": [],
   "source": [
    "#create crosstabs with columns 'region' and 'spending_flag'\n",
    "crosstab = pd.crosstab(ords_prods_merge['region'], ords_prods_merge['spending_flag'], dropna = False)"
   ]
  },
  {
   "cell_type": "code",
   "execution_count": 43,
   "id": "4a3d081e",
   "metadata": {},
   "outputs": [],
   "source": [
    "#copy it to clipboard \n",
    "crosstab.to_clipboard()"
   ]
  },
  {
   "cell_type": "code",
   "execution_count": 44,
   "id": "ad464eaa",
   "metadata": {},
   "outputs": [],
   "source": [
    "# Create DataFrames for the two tables\n",
    "data = {\n",
    "    'region': ['Midwest', 'Northwest', 'South', 'West'],\n",
    "    'High spender': [155975, 108225, 209691, 160354],\n",
    "    'Low spender': [7441350, 5614511, 10582194, 8132559]\n",
    "}\n",
    "\n",
    "df1 = pd.DataFrame(data)\n",
    "\n",
    "data_percent = {\n",
    "    'region': ['Midwest', 'Northwest', 'South', 'West'],\n",
    "    'High spender': ['2%', '2%', '2%', '2%'],\n",
    "    'Low spender': ['98%', '98%', '98%', '98%']\n",
    "}\n",
    "\n",
    "df2 = pd.DataFrame(data_percent)\n",
    "\n"
   ]
  },
  {
   "cell_type": "code",
   "execution_count": 46,
   "id": "64150e40",
   "metadata": {},
   "outputs": [
    {
     "data": {
      "text/html": [
       "<div>\n",
       "<style scoped>\n",
       "    .dataframe tbody tr th:only-of-type {\n",
       "        vertical-align: middle;\n",
       "    }\n",
       "\n",
       "    .dataframe tbody tr th {\n",
       "        vertical-align: top;\n",
       "    }\n",
       "\n",
       "    .dataframe thead th {\n",
       "        text-align: right;\n",
       "    }\n",
       "</style>\n",
       "<table border=\"1\" class=\"dataframe\">\n",
       "  <thead>\n",
       "    <tr style=\"text-align: right;\">\n",
       "      <th></th>\n",
       "      <th>region</th>\n",
       "      <th>High spender</th>\n",
       "      <th>Low spender</th>\n",
       "    </tr>\n",
       "  </thead>\n",
       "  <tbody>\n",
       "    <tr>\n",
       "      <th>0</th>\n",
       "      <td>Midwest</td>\n",
       "      <td>155975</td>\n",
       "      <td>7441350</td>\n",
       "    </tr>\n",
       "    <tr>\n",
       "      <th>1</th>\n",
       "      <td>Northwest</td>\n",
       "      <td>108225</td>\n",
       "      <td>5614511</td>\n",
       "    </tr>\n",
       "    <tr>\n",
       "      <th>2</th>\n",
       "      <td>South</td>\n",
       "      <td>209691</td>\n",
       "      <td>10582194</td>\n",
       "    </tr>\n",
       "    <tr>\n",
       "      <th>3</th>\n",
       "      <td>West</td>\n",
       "      <td>160354</td>\n",
       "      <td>8132559</td>\n",
       "    </tr>\n",
       "  </tbody>\n",
       "</table>\n",
       "</div>"
      ],
      "text/plain": [
       "      region  High spender  Low spender\n",
       "0    Midwest        155975      7441350\n",
       "1  Northwest        108225      5614511\n",
       "2      South        209691     10582194\n",
       "3       West        160354      8132559"
      ]
     },
     "execution_count": 46,
     "metadata": {},
     "output_type": "execute_result"
    }
   ],
   "source": [
    "#show a table between columns 'Region' and 'Spending Flags'\n",
    "df1"
   ]
  },
  {
   "cell_type": "code",
   "execution_count": 47,
   "id": "a200b8bd",
   "metadata": {},
   "outputs": [
    {
     "data": {
      "text/html": [
       "<div>\n",
       "<style scoped>\n",
       "    .dataframe tbody tr th:only-of-type {\n",
       "        vertical-align: middle;\n",
       "    }\n",
       "\n",
       "    .dataframe tbody tr th {\n",
       "        vertical-align: top;\n",
       "    }\n",
       "\n",
       "    .dataframe thead th {\n",
       "        text-align: right;\n",
       "    }\n",
       "</style>\n",
       "<table border=\"1\" class=\"dataframe\">\n",
       "  <thead>\n",
       "    <tr style=\"text-align: right;\">\n",
       "      <th></th>\n",
       "      <th>region</th>\n",
       "      <th>High spender</th>\n",
       "      <th>Low spender</th>\n",
       "    </tr>\n",
       "  </thead>\n",
       "  <tbody>\n",
       "    <tr>\n",
       "      <th>0</th>\n",
       "      <td>Midwest</td>\n",
       "      <td>2%</td>\n",
       "      <td>98%</td>\n",
       "    </tr>\n",
       "    <tr>\n",
       "      <th>1</th>\n",
       "      <td>Northwest</td>\n",
       "      <td>2%</td>\n",
       "      <td>98%</td>\n",
       "    </tr>\n",
       "    <tr>\n",
       "      <th>2</th>\n",
       "      <td>South</td>\n",
       "      <td>2%</td>\n",
       "      <td>98%</td>\n",
       "    </tr>\n",
       "    <tr>\n",
       "      <th>3</th>\n",
       "      <td>West</td>\n",
       "      <td>2%</td>\n",
       "      <td>98%</td>\n",
       "    </tr>\n",
       "  </tbody>\n",
       "</table>\n",
       "</div>"
      ],
      "text/plain": [
       "      region High spender Low spender\n",
       "0    Midwest           2%         98%\n",
       "1  Northwest           2%         98%\n",
       "2      South           2%         98%\n",
       "3       West           2%         98%"
      ]
     },
     "execution_count": 47,
     "metadata": {},
     "output_type": "execute_result"
    }
   ],
   "source": [
    "# Display the percentage of High Spenders and Low Spenders relative to the total number of users.\n",
    "df2"
   ]
  },
  {
   "cell_type": "markdown",
   "id": "775b6767",
   "metadata": {},
   "source": [
    "### Insights\n",
    "\n",
    "- Based on the percentage of high and low spenders in relation to the total number of users, it appears that there is no variation in spending habits among regions"
   ]
  },
  {
   "cell_type": "markdown",
   "id": "16e48306",
   "metadata": {},
   "source": [
    "#### The Instacart CFO isn’t interested in customers who don’t generate much revenue for the app. Create an exclusion flag for low-activity customers (customers with less than 5 orders) and exclude them from the data. Make sure you export this sample."
   ]
  },
  {
   "cell_type": "code",
   "execution_count": 7,
   "id": "20a2f201",
   "metadata": {},
   "outputs": [],
   "source": [
    "#create an exlusion flag \n",
    "ords_prods_merge.loc[\n",
    "    ords_prods_merge['order_number']< 5\n",
    ", 'low_activity_customers'] = 'Low active user'\n",
    "ords_prods_merge.loc[\n",
    "    ords_prods_merge['order_number']>= 5\n",
    ", 'low_activity_customers'] = 'Regular user'\n"
   ]
  },
  {
   "cell_type": "code",
   "execution_count": 9,
   "id": "08a88e9f",
   "metadata": {},
   "outputs": [
    {
     "data": {
      "text/plain": [
       "Regular user       24414877\n",
       "Low active user     7989982\n",
       "Name: low_activity_customers, dtype: int64"
      ]
     },
     "execution_count": 9,
     "metadata": {},
     "output_type": "execute_result"
    }
   ],
   "source": [
    "#check counts \n",
    "ords_prods_merge['low_activity_customers'].value_counts(dropna = False)"
   ]
  },
  {
   "cell_type": "code",
   "execution_count": 11,
   "id": "30114d1b",
   "metadata": {},
   "outputs": [],
   "source": [
    "#create a new dataframe that only includes 'Regular user'\n",
    "df_lowactive_user_dropped = ords_prods_merge.loc[\n",
    "    ords_prods_merge['low_activity_customers'] == 'Regular user'\n",
    "]"
   ]
  },
  {
   "cell_type": "code",
   "execution_count": 12,
   "id": "86638df5",
   "metadata": {},
   "outputs": [
    {
     "data": {
      "text/plain": [
       "Regular user    24414877\n",
       "Name: low_activity_customers, dtype: int64"
      ]
     },
     "execution_count": 12,
     "metadata": {},
     "output_type": "execute_result"
    }
   ],
   "source": [
    "#check counts \n",
    "df_lowactive_user_dropped['low_activity_customers'].value_counts(dropna = False)"
   ]
  },
  {
   "cell_type": "markdown",
   "id": "c1ec402a",
   "metadata": {},
   "source": [
    "#export\n",
    "ords_prods_merge.to_pickle(os.path.join(path, '02 Data','02 Prepared Data', 'orders_products_custmers_merged_low_active_dropped.pkl'))"
   ]
  },
  {
   "cell_type": "markdown",
   "id": "e15f103b",
   "metadata": {},
   "source": [
    "#### The marketing and business strategy units at Instacart want to create more-relevant marketing strategies for different products and are, thus, curious about customer profiling in their database. Create a profiling variable based on age, income, certain goods in the “department_id” column, and number of dependents. You might also use the “orders_day_of_the_week” and “order_hour_of_day” columns if you can think of a way they would impact customer profiles. (Hint: As an example, try thinking of what characteristics would lead you to the profile “Single adult” or “Young parent.”)"
   ]
  },
  {
   "cell_type": "markdown",
   "id": "68a0b1ab",
   "metadata": {},
   "source": [
    "### Group by age"
   ]
  },
  {
   "cell_type": "code",
   "execution_count": 22,
   "id": "e41866f9",
   "metadata": {},
   "outputs": [
    {
     "name": "stdout",
     "output_type": "stream",
     "text": [
      "18\n",
      "81\n"
     ]
    }
   ],
   "source": [
    "#count the min and max of age. \n",
    "min_user_age = df_lowactive_user_dropped['age'].min()\n",
    "max_user_age = df_lowactive_user_dropped['age'].max()\n",
    "\n",
    "print(min_user_age)\n",
    "print(max_user_age)"
   ]
  },
  {
   "cell_type": "markdown",
   "id": "c9b30fc5",
   "metadata": {},
   "source": [
    "Grouping age as follows\n",
    "\n",
    "- Teenagers: 13-19 years\n",
    "- Young Adults: 20-35 years\n",
    "- Adults: 36-64 years\n",
    "- Seniors: 65 years and older"
   ]
  },
  {
   "cell_type": "code",
   "execution_count": 24,
   "id": "8fda63ea",
   "metadata": {},
   "outputs": [],
   "source": [
    "#create a new variable 'age_group'\n",
    "df_lowactive_user_dropped.loc[\n",
    "    (df_lowactive_user_dropped['age'] >= 13) & (df_lowactive_user_dropped['age'] <= 19), 'age_group'\n",
    "] = 'Teenagers'\n",
    "\n",
    "df_lowactive_user_dropped.loc[\n",
    "    (df_lowactive_user_dropped['age'] >= 20) & (df_lowactive_user_dropped['age'] <= 35), 'age_group'\n",
    "] = 'Young Adults'\n",
    "\n",
    "df_lowactive_user_dropped.loc[\n",
    "    (df_lowactive_user_dropped['age'] >= 36) & (df_lowactive_user_dropped['age'] <= 64), 'age_group'\n",
    "] = 'Adults'\n",
    "\n",
    "df_lowactive_user_dropped.loc[\n",
    "    df_lowactive_user_dropped['age'] >= 65, 'age_group'\n",
    "] = 'Seniors'\n",
    "\n",
    "\n",
    "\n",
    "\n"
   ]
  },
  {
   "cell_type": "code",
   "execution_count": 25,
   "id": "d7919398",
   "metadata": {
    "scrolled": true
   },
   "outputs": [
    {
     "data": {
      "text/plain": [
       "Adults          11062657\n",
       "Seniors          6458450\n",
       "Young Adults     6124997\n",
       "Teenagers         768773\n",
       "Name: age_group, dtype: int64"
      ]
     },
     "execution_count": 25,
     "metadata": {},
     "output_type": "execute_result"
    }
   ],
   "source": [
    "#check counts\n",
    "df_lowactive_user_dropped['age_group'].value_counts(dropna = False)"
   ]
  },
  {
   "cell_type": "markdown",
   "id": "ce299d01",
   "metadata": {},
   "source": [
    "### Group by income\n",
    "Grouping income as follows\n",
    "- Low Income: $0 - $67000\n",
    "- Middle Income: $67001 - $100000\n",
    "- High Income: $100001 - $400000\n",
    "- Very High Income: $400001+"
   ]
  },
  {
   "cell_type": "code",
   "execution_count": 27,
   "id": "0ab2704e",
   "metadata": {},
   "outputs": [
    {
     "name": "stdout",
     "output_type": "stream",
     "text": [
      "25903\n",
      "593901\n"
     ]
    }
   ],
   "source": [
    "#count max and min of the income\n",
    "min_income = df_lowactive_user_dropped['income'].min()\n",
    "max_income = df_lowactive_user_dropped['income'].max()\n",
    "\n",
    "print(min_income)\n",
    "print(max_income)"
   ]
  },
  {
   "cell_type": "code",
   "execution_count": 29,
   "id": "c9824650",
   "metadata": {},
   "outputs": [],
   "source": [
    "#create a new variable 'income_group'\n",
    "df_lowactive_user_dropped.loc[\n",
    "    (df_lowactive_user_dropped['income'] >= 0) & (df_lowactive_user_dropped['income'] <= 67000), 'income_group'\n",
    "] = 'Low income'\n",
    "\n",
    "df_lowactive_user_dropped.loc[\n",
    "    (df_lowactive_user_dropped['income'] >= 67001) & (df_lowactive_user_dropped['income'] <= 100000), 'income_group'\n",
    "] = 'Middle income'\n",
    "\n",
    "df_lowactive_user_droppede.loc[\n",
    "    (df_lowactive_user_dropped['income'] >= 100001) & (df_lowactive_user_dropped['income'] <= 400000), 'income_group'\n",
    "] = 'High income'\n",
    "\n",
    "df_lowactive_user_droppede.loc[\n",
    "    df_lowactive_user_dropped['income'] >= 400001, 'income_group'\n",
    "] = 'Very High income'"
   ]
  },
  {
   "cell_type": "markdown",
   "id": "47cfc200",
   "metadata": {},
   "source": [
    "### Group by department"
   ]
  },
  {
   "cell_type": "code",
   "execution_count": 32,
   "id": "283546b8",
   "metadata": {},
   "outputs": [],
   "source": [
    "#upload department data\n",
    "dept = pd.read_csv(os.path.join( path, '02 Data', '02 Prepared Data', 'departments_wrangled.csv'))"
   ]
  },
  {
   "cell_type": "code",
   "execution_count": 35,
   "id": "af7f6a34",
   "metadata": {},
   "outputs": [
    {
     "data": {
      "text/html": [
       "<div>\n",
       "<style scoped>\n",
       "    .dataframe tbody tr th:only-of-type {\n",
       "        vertical-align: middle;\n",
       "    }\n",
       "\n",
       "    .dataframe tbody tr th {\n",
       "        vertical-align: top;\n",
       "    }\n",
       "\n",
       "    .dataframe thead th {\n",
       "        text-align: right;\n",
       "    }\n",
       "</style>\n",
       "<table border=\"1\" class=\"dataframe\">\n",
       "  <thead>\n",
       "    <tr style=\"text-align: right;\">\n",
       "      <th></th>\n",
       "      <th>Unnamed: 0</th>\n",
       "      <th>department</th>\n",
       "    </tr>\n",
       "  </thead>\n",
       "  <tbody>\n",
       "    <tr>\n",
       "      <th>0</th>\n",
       "      <td>1</td>\n",
       "      <td>frozen</td>\n",
       "    </tr>\n",
       "    <tr>\n",
       "      <th>1</th>\n",
       "      <td>2</td>\n",
       "      <td>other</td>\n",
       "    </tr>\n",
       "    <tr>\n",
       "      <th>2</th>\n",
       "      <td>3</td>\n",
       "      <td>bakery</td>\n",
       "    </tr>\n",
       "    <tr>\n",
       "      <th>3</th>\n",
       "      <td>4</td>\n",
       "      <td>produce</td>\n",
       "    </tr>\n",
       "    <tr>\n",
       "      <th>4</th>\n",
       "      <td>5</td>\n",
       "      <td>alcohol</td>\n",
       "    </tr>\n",
       "    <tr>\n",
       "      <th>5</th>\n",
       "      <td>6</td>\n",
       "      <td>international</td>\n",
       "    </tr>\n",
       "    <tr>\n",
       "      <th>6</th>\n",
       "      <td>7</td>\n",
       "      <td>beverages</td>\n",
       "    </tr>\n",
       "    <tr>\n",
       "      <th>7</th>\n",
       "      <td>8</td>\n",
       "      <td>pets</td>\n",
       "    </tr>\n",
       "    <tr>\n",
       "      <th>8</th>\n",
       "      <td>9</td>\n",
       "      <td>dry goods pasta</td>\n",
       "    </tr>\n",
       "    <tr>\n",
       "      <th>9</th>\n",
       "      <td>10</td>\n",
       "      <td>bulk</td>\n",
       "    </tr>\n",
       "    <tr>\n",
       "      <th>10</th>\n",
       "      <td>11</td>\n",
       "      <td>personal care</td>\n",
       "    </tr>\n",
       "    <tr>\n",
       "      <th>11</th>\n",
       "      <td>12</td>\n",
       "      <td>meat seafood</td>\n",
       "    </tr>\n",
       "    <tr>\n",
       "      <th>12</th>\n",
       "      <td>13</td>\n",
       "      <td>pantry</td>\n",
       "    </tr>\n",
       "    <tr>\n",
       "      <th>13</th>\n",
       "      <td>14</td>\n",
       "      <td>breakfast</td>\n",
       "    </tr>\n",
       "    <tr>\n",
       "      <th>14</th>\n",
       "      <td>15</td>\n",
       "      <td>canned goods</td>\n",
       "    </tr>\n",
       "    <tr>\n",
       "      <th>15</th>\n",
       "      <td>16</td>\n",
       "      <td>dairy eggs</td>\n",
       "    </tr>\n",
       "    <tr>\n",
       "      <th>16</th>\n",
       "      <td>17</td>\n",
       "      <td>household</td>\n",
       "    </tr>\n",
       "    <tr>\n",
       "      <th>17</th>\n",
       "      <td>18</td>\n",
       "      <td>babies</td>\n",
       "    </tr>\n",
       "    <tr>\n",
       "      <th>18</th>\n",
       "      <td>19</td>\n",
       "      <td>snacks</td>\n",
       "    </tr>\n",
       "    <tr>\n",
       "      <th>19</th>\n",
       "      <td>20</td>\n",
       "      <td>deli</td>\n",
       "    </tr>\n",
       "    <tr>\n",
       "      <th>20</th>\n",
       "      <td>21</td>\n",
       "      <td>missing</td>\n",
       "    </tr>\n",
       "  </tbody>\n",
       "</table>\n",
       "</div>"
      ],
      "text/plain": [
       "    Unnamed: 0       department\n",
       "0            1           frozen\n",
       "1            2            other\n",
       "2            3           bakery\n",
       "3            4          produce\n",
       "4            5          alcohol\n",
       "5            6    international\n",
       "6            7        beverages\n",
       "7            8             pets\n",
       "8            9  dry goods pasta\n",
       "9           10             bulk\n",
       "10          11    personal care\n",
       "11          12     meat seafood\n",
       "12          13           pantry\n",
       "13          14        breakfast\n",
       "14          15     canned goods\n",
       "15          16       dairy eggs\n",
       "16          17        household\n",
       "17          18           babies\n",
       "18          19           snacks\n",
       "19          20             deli\n",
       "20          21          missing"
      ]
     },
     "execution_count": 35,
     "metadata": {},
     "output_type": "execute_result"
    }
   ],
   "source": [
    "#check data\n",
    "\n",
    "dept"
   ]
  },
  {
   "cell_type": "code",
   "execution_count": 50,
   "id": "69482af9",
   "metadata": {},
   "outputs": [],
   "source": [
    "#change the column name from 'Unnamed:0' to 'department_id'\n",
    "dept.rename(columns = {'Unnamed: 0': 'department_id'}, inplace = True)"
   ]
  },
  {
   "cell_type": "code",
   "execution_count": 55,
   "id": "f8668d6a",
   "metadata": {},
   "outputs": [
    {
     "data": {
      "text/html": [
       "<div>\n",
       "<style scoped>\n",
       "    .dataframe tbody tr th:only-of-type {\n",
       "        vertical-align: middle;\n",
       "    }\n",
       "\n",
       "    .dataframe tbody tr th {\n",
       "        vertical-align: top;\n",
       "    }\n",
       "\n",
       "    .dataframe thead th {\n",
       "        text-align: right;\n",
       "    }\n",
       "</style>\n",
       "<table border=\"1\" class=\"dataframe\">\n",
       "  <thead>\n",
       "    <tr style=\"text-align: right;\">\n",
       "      <th></th>\n",
       "      <th>department_id</th>\n",
       "      <th>department</th>\n",
       "    </tr>\n",
       "  </thead>\n",
       "  <tbody>\n",
       "    <tr>\n",
       "      <th>0</th>\n",
       "      <td>1</td>\n",
       "      <td>frozen</td>\n",
       "    </tr>\n",
       "    <tr>\n",
       "      <th>1</th>\n",
       "      <td>2</td>\n",
       "      <td>other</td>\n",
       "    </tr>\n",
       "    <tr>\n",
       "      <th>2</th>\n",
       "      <td>3</td>\n",
       "      <td>bakery</td>\n",
       "    </tr>\n",
       "    <tr>\n",
       "      <th>3</th>\n",
       "      <td>4</td>\n",
       "      <td>produce</td>\n",
       "    </tr>\n",
       "    <tr>\n",
       "      <th>4</th>\n",
       "      <td>5</td>\n",
       "      <td>alcohol</td>\n",
       "    </tr>\n",
       "    <tr>\n",
       "      <th>5</th>\n",
       "      <td>6</td>\n",
       "      <td>international</td>\n",
       "    </tr>\n",
       "    <tr>\n",
       "      <th>6</th>\n",
       "      <td>7</td>\n",
       "      <td>beverages</td>\n",
       "    </tr>\n",
       "    <tr>\n",
       "      <th>7</th>\n",
       "      <td>8</td>\n",
       "      <td>pets</td>\n",
       "    </tr>\n",
       "    <tr>\n",
       "      <th>8</th>\n",
       "      <td>9</td>\n",
       "      <td>dry goods pasta</td>\n",
       "    </tr>\n",
       "    <tr>\n",
       "      <th>9</th>\n",
       "      <td>10</td>\n",
       "      <td>bulk</td>\n",
       "    </tr>\n",
       "    <tr>\n",
       "      <th>10</th>\n",
       "      <td>11</td>\n",
       "      <td>personal care</td>\n",
       "    </tr>\n",
       "    <tr>\n",
       "      <th>11</th>\n",
       "      <td>12</td>\n",
       "      <td>meat seafood</td>\n",
       "    </tr>\n",
       "    <tr>\n",
       "      <th>12</th>\n",
       "      <td>13</td>\n",
       "      <td>pantry</td>\n",
       "    </tr>\n",
       "    <tr>\n",
       "      <th>13</th>\n",
       "      <td>14</td>\n",
       "      <td>breakfast</td>\n",
       "    </tr>\n",
       "    <tr>\n",
       "      <th>14</th>\n",
       "      <td>15</td>\n",
       "      <td>canned goods</td>\n",
       "    </tr>\n",
       "    <tr>\n",
       "      <th>15</th>\n",
       "      <td>16</td>\n",
       "      <td>dairy eggs</td>\n",
       "    </tr>\n",
       "    <tr>\n",
       "      <th>16</th>\n",
       "      <td>17</td>\n",
       "      <td>household</td>\n",
       "    </tr>\n",
       "    <tr>\n",
       "      <th>17</th>\n",
       "      <td>18</td>\n",
       "      <td>babies</td>\n",
       "    </tr>\n",
       "    <tr>\n",
       "      <th>18</th>\n",
       "      <td>19</td>\n",
       "      <td>snacks</td>\n",
       "    </tr>\n",
       "    <tr>\n",
       "      <th>19</th>\n",
       "      <td>20</td>\n",
       "      <td>deli</td>\n",
       "    </tr>\n",
       "    <tr>\n",
       "      <th>20</th>\n",
       "      <td>21</td>\n",
       "      <td>missing</td>\n",
       "    </tr>\n",
       "  </tbody>\n",
       "</table>\n",
       "</div>"
      ],
      "text/plain": [
       "    department_id       department\n",
       "0               1           frozen\n",
       "1               2            other\n",
       "2               3           bakery\n",
       "3               4          produce\n",
       "4               5          alcohol\n",
       "5               6    international\n",
       "6               7        beverages\n",
       "7               8             pets\n",
       "8               9  dry goods pasta\n",
       "9              10             bulk\n",
       "10             11    personal care\n",
       "11             12     meat seafood\n",
       "12             13           pantry\n",
       "13             14        breakfast\n",
       "14             15     canned goods\n",
       "15             16       dairy eggs\n",
       "16             17        household\n",
       "17             18           babies\n",
       "18             19           snacks\n",
       "19             20             deli\n",
       "20             21          missing"
      ]
     },
     "execution_count": 55,
     "metadata": {},
     "output_type": "execute_result"
    }
   ],
   "source": [
    "#check data again\n",
    "dept"
   ]
  },
  {
   "cell_type": "code",
   "execution_count": 57,
   "id": "72aeb3ca",
   "metadata": {},
   "outputs": [],
   "source": [
    "#merge data to a current dataframe\n",
    "\n",
    "highact_cust_depts_merged = df_lowactive_user_dropped.merge(dept, on = 'department_id')"
   ]
  },
  {
   "cell_type": "markdown",
   "id": "9cfdcbc6",
   "metadata": {},
   "source": [
    "## Group by parental age"
   ]
  },
  {
   "cell_type": "code",
   "execution_count": 92,
   "id": "a86ba0f0",
   "metadata": {},
   "outputs": [],
   "source": [
    "#young parents are users with more than one depandant and within the age 18 - 29\n",
    "#older parents are users with more than one depandant and the age older than 29\n",
    "\n",
    "highact_cust_depts_merged.loc[(highact_cust_depts_merged['n_dependants'] > 0) & (highact_cust_depts_merged['age'] <=29), 'parental_age'] = 'Young parents'\n",
    "highact_cust_depts_merged.loc[(highact_cust_depts_merged['n_dependants'] > 0) & (highact_cust_depts_merged['age']   > 29) , 'parental_age'] = 'Older parents'\n",
    "highact_cust_depts_merged.loc[highact_cust_depts_merged['n_dependants'] == 0, 'parental_age' ]  = 'Single'"
   ]
  },
  {
   "cell_type": "code",
   "execution_count": 93,
   "id": "c7b87240",
   "metadata": {},
   "outputs": [
    {
     "data": {
      "text/plain": [
       "Older parents    14857673\n",
       "Single            6105002\n",
       "Young parents     3452202\n",
       "Name: parental_age, dtype: int64"
      ]
     },
     "execution_count": 93,
     "metadata": {},
     "output_type": "execute_result"
    }
   ],
   "source": [
    "highact_cust_depts_merged['parental_age'].value_counts(dropna = False)"
   ]
  },
  {
   "cell_type": "code",
   "execution_count": 96,
   "id": "c68c8b4b",
   "metadata": {},
   "outputs": [],
   "source": [
    "#export\n",
    "highact_cust_depts_merged.to_pickle(os.path.join(path, '02 Data','02 Prepared Data', 'orders_products_dept_merged_activeuser.pkl'))"
   ]
  },
  {
   "cell_type": "code",
   "execution_count": null,
   "id": "e991c96f",
   "metadata": {},
   "outputs": [],
   "source": []
  },
  {
   "cell_type": "code",
   "execution_count": null,
   "id": "a6f1b60f",
   "metadata": {},
   "outputs": [],
   "source": []
  },
  {
   "cell_type": "code",
   "execution_count": null,
   "id": "5ba2b5f5",
   "metadata": {},
   "outputs": [],
   "source": []
  },
  {
   "cell_type": "code",
   "execution_count": null,
   "id": "99a58500",
   "metadata": {},
   "outputs": [],
   "source": []
  },
  {
   "cell_type": "code",
   "execution_count": null,
   "id": "153955e0",
   "metadata": {},
   "outputs": [],
   "source": []
  }
 ],
 "metadata": {
  "kernelspec": {
   "display_name": "Python 3 (ipykernel)",
   "language": "python",
   "name": "python3"
  },
  "language_info": {
   "codemirror_mode": {
    "name": "ipython",
    "version": 3
   },
   "file_extension": ".py",
   "mimetype": "text/x-python",
   "name": "python",
   "nbconvert_exporter": "python",
   "pygments_lexer": "ipython3",
   "version": "3.11.4"
  }
 },
 "nbformat": 4,
 "nbformat_minor": 5
}
