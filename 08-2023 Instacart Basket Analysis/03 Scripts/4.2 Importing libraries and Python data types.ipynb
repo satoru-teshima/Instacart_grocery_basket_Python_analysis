{
 "cells": [
  {
   "cell_type": "markdown",
   "id": "47f9d40c",
   "metadata": {},
   "source": [
    "# General Python Shortcut"
   ]
  },
  {
   "cell_type": "markdown",
   "id": "168304bf",
   "metadata": {},
   "source": [
    "#Press 'Enter' to enter editing mode\n",
    "#Press 'Escape' to enter navigating mode\n",
    "\n",
    "#Press 'A' to create a new cell above from editing mode\n",
    "#Press 'B' to create a new cell below from editing mode\n",
    "#Press 'D' twice to delete a cell from editing mode\n",
    "\n",
    "#Press 'M' to enter markdown mode. Whatever’s in this cell isn’t code that’s supposed to be executed. \n",
    "#You can also create headlines."
   ]
  },
  {
   "cell_type": "markdown",
   "id": "03267327",
   "metadata": {},
   "source": [
    "# 01. Importing Libraries"
   ]
  },
  {
   "cell_type": "code",
   "execution_count": 1,
   "id": "d99a2179",
   "metadata": {},
   "outputs": [],
   "source": [
    "#import libraries \n",
    "import pandas as pd\n",
    "import numpy as np\n",
    "import os"
   ]
  },
  {
   "cell_type": "markdown",
   "id": "ebf7829a",
   "metadata": {},
   "source": [
    "# 02. Data Types"
   ]
  },
  {
   "cell_type": "markdown",
   "id": "20464d8e",
   "metadata": {},
   "source": [
    "### Integer: Numeric data without a decimal point (1, 2, 3, etc.)\n"
   ]
  },
  {
   "cell_type": "code",
   "execution_count": 3,
   "id": "c0b7d9cd",
   "metadata": {},
   "outputs": [],
   "source": [
    "\n",
    "x=2"
   ]
  },
  {
   "cell_type": "code",
   "execution_count": 4,
   "id": "d52644c2",
   "metadata": {},
   "outputs": [
    {
     "data": {
      "text/plain": [
       "2"
      ]
     },
     "execution_count": 4,
     "metadata": {},
     "output_type": "execute_result"
    }
   ],
   "source": [
    "x"
   ]
  },
  {
   "cell_type": "code",
   "execution_count": 5,
   "id": "da953106",
   "metadata": {},
   "outputs": [
    {
     "name": "stdout",
     "output_type": "stream",
     "text": [
      "2\n"
     ]
    }
   ],
   "source": [
    "print(x)"
   ]
  },
  {
   "cell_type": "code",
   "execution_count": 6,
   "id": "64549a34",
   "metadata": {},
   "outputs": [
    {
     "data": {
      "text/plain": [
       "int"
      ]
     },
     "execution_count": 6,
     "metadata": {},
     "output_type": "execute_result"
    }
   ],
   "source": [
    "type(x)"
   ]
  },
  {
   "cell_type": "markdown",
   "id": "8a45de9c",
   "metadata": {},
   "source": [
    "### Floating-Point Number: Numeric data with a decimal point (1.34, 4.567, 10.4, etc.)"
   ]
  },
  {
   "cell_type": "code",
   "execution_count": 8,
   "id": "df474d0c",
   "metadata": {},
   "outputs": [],
   "source": [
    "y = 1.2345"
   ]
  },
  {
   "cell_type": "code",
   "execution_count": 9,
   "id": "9639d81b",
   "metadata": {},
   "outputs": [
    {
     "data": {
      "text/plain": [
       "float"
      ]
     },
     "execution_count": 9,
     "metadata": {},
     "output_type": "execute_result"
    }
   ],
   "source": [
    "type(y)"
   ]
  },
  {
   "cell_type": "markdown",
   "id": "6bca270f",
   "metadata": {},
   "source": [
    "### String: Any textual data"
   ]
  },
  {
   "cell_type": "code",
   "execution_count": 10,
   "id": "338eba61",
   "metadata": {},
   "outputs": [],
   "source": [
    "z =  'Brazil'"
   ]
  },
  {
   "cell_type": "code",
   "execution_count": 11,
   "id": "cf4ac3e4",
   "metadata": {},
   "outputs": [
    {
     "data": {
      "text/plain": [
       "str"
      ]
     },
     "execution_count": 11,
     "metadata": {},
     "output_type": "execute_result"
    }
   ],
   "source": [
    "type(z)"
   ]
  },
  {
   "cell_type": "markdown",
   "id": "71873fa1",
   "metadata": {},
   "source": [
    "### Boolean: Data used to denote the truthfulness of a condition or statement. It takes two values: True and False"
   ]
  },
  {
   "cell_type": "code",
   "execution_count": 13,
   "id": "a739e7de",
   "metadata": {},
   "outputs": [
    {
     "data": {
      "text/plain": [
       "bool"
      ]
     },
     "execution_count": 13,
     "metadata": {},
     "output_type": "execute_result"
    }
   ],
   "source": [
    "type(True)"
   ]
  },
  {
   "cell_type": "code",
   "execution_count": 14,
   "id": "a3455528",
   "metadata": {},
   "outputs": [
    {
     "data": {
      "text/plain": [
       "bool"
      ]
     },
     "execution_count": 14,
     "metadata": {},
     "output_type": "execute_result"
    }
   ],
   "source": [
    "type(False)"
   ]
  },
  {
   "cell_type": "markdown",
   "id": "b37d94e0",
   "metadata": {},
   "source": [
    "# 03. Python Operators"
   ]
  },
  {
   "cell_type": "markdown",
   "id": "4ac929ed",
   "metadata": {},
   "source": [
    "### Integers and Floats"
   ]
  },
  {
   "cell_type": "code",
   "execution_count": 15,
   "id": "28142928",
   "metadata": {},
   "outputs": [
    {
     "name": "stdout",
     "output_type": "stream",
     "text": [
      "2\n"
     ]
    }
   ],
   "source": [
    "print (x)"
   ]
  },
  {
   "cell_type": "code",
   "execution_count": 16,
   "id": "72851665",
   "metadata": {},
   "outputs": [
    {
     "name": "stdout",
     "output_type": "stream",
     "text": [
      "4\n"
     ]
    }
   ],
   "source": [
    "print(x+2)"
   ]
  },
  {
   "cell_type": "code",
   "execution_count": 17,
   "id": "90763f53",
   "metadata": {},
   "outputs": [
    {
     "data": {
      "text/plain": [
       "3.2344999999999997"
      ]
     },
     "execution_count": 17,
     "metadata": {},
     "output_type": "execute_result"
    }
   ],
   "source": [
    "x+y"
   ]
  },
  {
   "cell_type": "code",
   "execution_count": 18,
   "id": "9ad5cb60",
   "metadata": {},
   "outputs": [],
   "source": [
    "x = x+2"
   ]
  },
  {
   "cell_type": "code",
   "execution_count": 19,
   "id": "1258153f",
   "metadata": {},
   "outputs": [
    {
     "name": "stdout",
     "output_type": "stream",
     "text": [
      "4\n"
     ]
    }
   ],
   "source": [
    "print (x)"
   ]
  },
  {
   "cell_type": "markdown",
   "id": "855a69d7",
   "metadata": {},
   "source": [
    "### Strings\n"
   ]
  },
  {
   "cell_type": "code",
   "execution_count": 22,
   "id": "bc323429",
   "metadata": {},
   "outputs": [],
   "source": [
    "a = 'Hello! '"
   ]
  },
  {
   "cell_type": "code",
   "execution_count": 21,
   "id": "edc9e309",
   "metadata": {},
   "outputs": [],
   "source": [
    "b = 'Mary?'"
   ]
  },
  {
   "cell_type": "code",
   "execution_count": 23,
   "id": "33de88c6",
   "metadata": {},
   "outputs": [
    {
     "data": {
      "text/plain": [
       "'Hello! Mary?'"
      ]
     },
     "execution_count": 23,
     "metadata": {},
     "output_type": "execute_result"
    }
   ],
   "source": [
    "a+b "
   ]
  },
  {
   "cell_type": "code",
   "execution_count": 24,
   "id": "c91485ab",
   "metadata": {},
   "outputs": [
    {
     "data": {
      "text/plain": [
       "'Hello! Hello! Hello! Hello! Hello! Hello! Hello! Hello! Hello! Hello! '"
      ]
     },
     "execution_count": 24,
     "metadata": {},
     "output_type": "execute_result"
    }
   ],
   "source": [
    "a*10"
   ]
  },
  {
   "cell_type": "markdown",
   "id": "9907bce6",
   "metadata": {},
   "source": [
    "### Booleans"
   ]
  },
  {
   "cell_type": "code",
   "execution_count": 25,
   "id": "704af30d",
   "metadata": {},
   "outputs": [
    {
     "data": {
      "text/plain": [
       "False"
      ]
     },
     "execution_count": 25,
     "metadata": {},
     "output_type": "execute_result"
    }
   ],
   "source": [
    "x == y"
   ]
  },
  {
   "cell_type": "code",
   "execution_count": 26,
   "id": "662fc294",
   "metadata": {},
   "outputs": [
    {
     "data": {
      "text/plain": [
       "bool"
      ]
     },
     "execution_count": 26,
     "metadata": {},
     "output_type": "execute_result"
    }
   ],
   "source": [
    "type(x == y)"
   ]
  },
  {
   "cell_type": "markdown",
   "id": "af29534b",
   "metadata": {},
   "source": [
    "# 04. Task\n"
   ]
  },
  {
   "cell_type": "markdown",
   "id": "76fb1103",
   "metadata": {},
   "source": [
    "Code 3 different ways of reaching a result of 100 by adding or subtracting numeric variables."
   ]
  },
  {
   "cell_type": "code",
   "execution_count": 30,
   "id": "8591f976",
   "metadata": {},
   "outputs": [
    {
     "data": {
      "text/plain": [
       "100"
      ]
     },
     "execution_count": 30,
     "metadata": {},
     "output_type": "execute_result"
    }
   ],
   "source": [
    "x1 = 50\n",
    "x1 + x1 "
   ]
  },
  {
   "cell_type": "code",
   "execution_count": 31,
   "id": "9d5b6962",
   "metadata": {},
   "outputs": [
    {
     "data": {
      "text/plain": [
       "100"
      ]
     },
     "execution_count": 31,
     "metadata": {},
     "output_type": "execute_result"
    }
   ],
   "source": [
    "y1 = 150\n",
    "y1 - x1 "
   ]
  },
  {
   "cell_type": "code",
   "execution_count": 34,
   "id": "48924e7c",
   "metadata": {},
   "outputs": [
    {
     "data": {
      "text/plain": [
       "100"
      ]
     },
     "execution_count": 34,
     "metadata": {},
     "output_type": "execute_result"
    }
   ],
   "source": [
    "z = 200\n",
    "z - (x1 + x1) "
   ]
  },
  {
   "cell_type": "markdown",
   "id": "65751fbd",
   "metadata": {},
   "source": [
    "Code 2 floating-point variables and divide them by each other.\n"
   ]
  },
  {
   "cell_type": "code",
   "execution_count": 36,
   "id": "8dd02a01",
   "metadata": {},
   "outputs": [
    {
     "data": {
      "text/plain": [
       "0.43252032520325207"
      ]
     },
     "execution_count": 36,
     "metadata": {},
     "output_type": "execute_result"
    }
   ],
   "source": [
    "z1 = 0.532\n",
    "z2 = 1.23\n",
    "\n",
    "z1/z2"
   ]
  },
  {
   "cell_type": "markdown",
   "id": "5e855eb6",
   "metadata": {},
   "source": [
    "Construct a short word made of separate strings (you’ll need to concatenate some strings!).\n"
   ]
  },
  {
   "cell_type": "code",
   "execution_count": 37,
   "id": "78d02853",
   "metadata": {
    "scrolled": true
   },
   "outputs": [
    {
     "data": {
      "text/plain": [
       "'sore-throat'"
      ]
     },
     "execution_count": 37,
     "metadata": {},
     "output_type": "execute_result"
    }
   ],
   "source": [
    "a1 = 'sore-'\n",
    "a2 = 'throat'\n",
    "\n",
    "a1 + a2"
   ]
  },
  {
   "cell_type": "markdown",
   "id": "3e2980c1",
   "metadata": {},
   "source": [
    "Construct 2 short sentences made of separate strings.\n"
   ]
  },
  {
   "cell_type": "code",
   "execution_count": 38,
   "id": "84a92072",
   "metadata": {},
   "outputs": [
    {
     "data": {
      "text/plain": [
       "'Hello, pyhon! How are you today?'"
      ]
     },
     "execution_count": 38,
     "metadata": {},
     "output_type": "execute_result"
    }
   ],
   "source": [
    "a3 = 'Hello, pyhon! '\n",
    "a4 = 'How are you today?'\n",
    "a3+a4"
   ]
  },
  {
   "cell_type": "markdown",
   "id": "adc9efd0",
   "metadata": {},
   "source": [
    "Bonus Task\n",
    "\n",
    "At the bottom of your file, include a command that makes a string appear 100 times."
   ]
  },
  {
   "cell_type": "code",
   "execution_count": 42,
   "id": "3675b5d7",
   "metadata": {},
   "outputs": [
    {
     "name": "stdout",
     "output_type": "stream",
     "text": [
      "You are beautiful\n",
      "You are beautiful\n",
      "You are beautiful\n",
      "You are beautiful\n",
      "You are beautiful\n",
      "You are beautiful\n",
      "You are beautiful\n",
      "You are beautiful\n",
      "You are beautiful\n",
      "You are beautiful\n",
      "You are beautiful\n",
      "You are beautiful\n",
      "You are beautiful\n",
      "You are beautiful\n",
      "You are beautiful\n",
      "You are beautiful\n",
      "You are beautiful\n",
      "You are beautiful\n",
      "You are beautiful\n",
      "You are beautiful\n",
      "You are beautiful\n",
      "You are beautiful\n",
      "You are beautiful\n",
      "You are beautiful\n",
      "You are beautiful\n",
      "You are beautiful\n",
      "You are beautiful\n",
      "You are beautiful\n",
      "You are beautiful\n",
      "You are beautiful\n",
      "You are beautiful\n",
      "You are beautiful\n",
      "You are beautiful\n",
      "You are beautiful\n",
      "You are beautiful\n",
      "You are beautiful\n",
      "You are beautiful\n",
      "You are beautiful\n",
      "You are beautiful\n",
      "You are beautiful\n",
      "You are beautiful\n",
      "You are beautiful\n",
      "You are beautiful\n",
      "You are beautiful\n",
      "You are beautiful\n",
      "You are beautiful\n",
      "You are beautiful\n",
      "You are beautiful\n",
      "You are beautiful\n",
      "You are beautiful\n",
      "You are beautiful\n",
      "You are beautiful\n",
      "You are beautiful\n",
      "You are beautiful\n",
      "You are beautiful\n",
      "You are beautiful\n",
      "You are beautiful\n",
      "You are beautiful\n",
      "You are beautiful\n",
      "You are beautiful\n",
      "You are beautiful\n",
      "You are beautiful\n",
      "You are beautiful\n",
      "You are beautiful\n",
      "You are beautiful\n",
      "You are beautiful\n",
      "You are beautiful\n",
      "You are beautiful\n",
      "You are beautiful\n",
      "You are beautiful\n",
      "You are beautiful\n",
      "You are beautiful\n",
      "You are beautiful\n",
      "You are beautiful\n",
      "You are beautiful\n",
      "You are beautiful\n",
      "You are beautiful\n",
      "You are beautiful\n",
      "You are beautiful\n",
      "You are beautiful\n",
      "You are beautiful\n",
      "You are beautiful\n",
      "You are beautiful\n",
      "You are beautiful\n",
      "You are beautiful\n",
      "You are beautiful\n",
      "You are beautiful\n",
      "You are beautiful\n",
      "You are beautiful\n",
      "You are beautiful\n",
      "You are beautiful\n",
      "You are beautiful\n",
      "You are beautiful\n",
      "You are beautiful\n",
      "You are beautiful\n",
      "You are beautiful\n",
      "You are beautiful\n",
      "You are beautiful\n",
      "You are beautiful\n",
      "You are beautiful\n"
     ]
    }
   ],
   "source": [
    "repeat_text = 'You are beautiful' \n",
    "\n",
    "for beauty in range(100):\n",
    "    print(repeat_text)"
   ]
  }
 ],
 "metadata": {
  "kernelspec": {
   "display_name": "Python 3 (ipykernel)",
   "language": "python",
   "name": "python3"
  },
  "language_info": {
   "codemirror_mode": {
    "name": "ipython",
    "version": 3
   },
   "file_extension": ".py",
   "mimetype": "text/x-python",
   "name": "python",
   "nbconvert_exporter": "python",
   "pygments_lexer": "ipython3",
   "version": "3.11.4"
  }
 },
 "nbformat": 4,
 "nbformat_minor": 5
}
