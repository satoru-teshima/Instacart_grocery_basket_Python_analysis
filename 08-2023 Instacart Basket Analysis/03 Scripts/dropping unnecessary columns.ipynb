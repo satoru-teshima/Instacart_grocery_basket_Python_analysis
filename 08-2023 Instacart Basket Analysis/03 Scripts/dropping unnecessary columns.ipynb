{
 "cells": [
  {
   "cell_type": "code",
   "execution_count": null,
   "id": "b1524d38",
   "metadata": {},
   "outputs": [],
   "source": [
    "import pandas as pd\n",
    "import numpy as np\n",
    "import os"
   ]
  },
  {
   "cell_type": "code",
   "execution_count": null,
   "id": "09804d90",
   "metadata": {},
   "outputs": [],
   "source": [
    "path = \"/Users/satoruteshima/Documents/CareerFoundry/Data Immersion 4/08-2023 Instacart Basket Analysis\""
   ]
  },
  {
   "cell_type": "code",
   "execution_count": null,
   "id": "1b7708fd",
   "metadata": {},
   "outputs": [],
   "source": [
    "df = pd.read_pickle(os.path.join( path, '02 Data', '02 Prepared Data', 'ords_prods_customer_merge_.pkl'))"
   ]
  },
  {
   "cell_type": "code",
   "execution_count": null,
   "id": "4ac22b47",
   "metadata": {},
   "outputs": [],
   "source": [
    "df= df.drop(columns = ['first_name'])\n",
    "df= df.drop(columns = ['surname'])\n",
    "df= df.drop(columns = ['max_order'])\n",
    "df= df.drop(columns = ['max_price'])\n",
    "df= df.drop(columns = ['most_orders'])\n"
   ]
  },
  {
   "cell_type": "code",
   "execution_count": null,
   "id": "1cef65ba",
   "metadata": {},
   "outputs": [],
   "source": [
    "df.head()"
   ]
  },
  {
   "cell_type": "code",
   "execution_count": null,
   "id": "a66f4c10",
   "metadata": {},
   "outputs": [],
   "source": [
    "df.info()"
   ]
  },
  {
   "cell_type": "code",
   "execution_count": null,
   "id": "1f7b9e77",
   "metadata": {},
   "outputs": [],
   "source": [
    "df.to_pickle(os.path.join(path, '02 Data','02 Prepared Data', 'orders_products_customer_merged_final.pkl'))"
   ]
  },
  {
   "cell_type": "code",
   "execution_count": null,
   "id": "ad2c3ab4",
   "metadata": {},
   "outputs": [],
   "source": []
  },
  {
   "cell_type": "code",
   "execution_count": null,
   "id": "c0773b96",
   "metadata": {},
   "outputs": [],
   "source": []
  },
  {
   "cell_type": "code",
   "execution_count": null,
   "id": "2cad500e",
   "metadata": {},
   "outputs": [],
   "source": []
  },
  {
   "cell_type": "code",
   "execution_count": null,
   "id": "7bb81cc4",
   "metadata": {},
   "outputs": [],
   "source": []
  },
  {
   "cell_type": "code",
   "execution_count": null,
   "id": "bb5302ab",
   "metadata": {},
   "outputs": [],
   "source": []
  },
  {
   "cell_type": "code",
   "execution_count": null,
   "id": "ea2b8e39",
   "metadata": {},
   "outputs": [],
   "source": []
  }
 ],
 "metadata": {
  "kernelspec": {
   "display_name": "Python 3 (ipykernel)",
   "language": "python",
   "name": "python3"
  },
  "language_info": {
   "codemirror_mode": {
    "name": "ipython",
    "version": 3
   },
   "file_extension": ".py",
   "mimetype": "text/x-python",
   "name": "python",
   "nbconvert_exporter": "python",
   "pygments_lexer": "ipython3",
   "version": "3.11.4"
  }
 },
 "nbformat": 4,
 "nbformat_minor": 5
}
